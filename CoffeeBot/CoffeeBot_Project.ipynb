{
  "nbformat": 4,
  "nbformat_minor": 0,
  "metadata": {
    "colab": {
      "name": "CoffeeBot_Project.ipynb",
      "provenance": [],
      "collapsed_sections": [],
      "toc_visible": true
    },
    "kernelspec": {
      "name": "python3",
      "display_name": "Python 3"
    },
    "language_info": {
      "name": "python"
    },
    "accelerator": "TPU"
  },
  "cells": [
    {
      "cell_type": "markdown",
      "source": [
        "Loading data"
      ],
      "metadata": {
        "id": "FAlek8Am4JBq"
      }
    },
    {
      "cell_type": "code",
      "source": [
        "import pandas as pd\n",
        "df = pd.read_csv('conversationo.csv')\n",
        "raw = df.dropna().reset_index(drop=True)#remove nan column\n",
        "raw"
      ],
      "metadata": {
        "id": "5JYY0HeQeF3Y",
        "colab": {
          "base_uri": "https://localhost:8080/",
          "height": 424
        },
        "outputId": "e9af4e4c-4d9f-4548-aedb-49e71b39d1e8"
      },
      "execution_count": null,
      "outputs": [
        {
          "output_type": "execute_result",
          "data": {
            "text/plain": [
              "                                     Question  \\\n",
              "0                                         hey   \n",
              "1                            do u have coffee   \n",
              "2    i will take one espresso and 5 americano   \n",
              "3                            anything special   \n",
              "4                           suggest something   \n",
              "..                                        ...   \n",
              "932           what is price of French Coffee    \n",
              "933         what is price of Iced Coffee Late   \n",
              "934          what is price of Latte Macchiato   \n",
              "935     what is price of Wainans Choco Coffee   \n",
              "936                           book me a table   \n",
              "\n",
              "                                                answer  \n",
              "0                           Hello! How may I help you.  \n",
              "1    Yes sir  Simple Coffee ,Cappuchino, Americano,...  \n",
              "2    Sir thanks for your order. You have ordered 1 ...  \n",
              "3    We have coffe,pastries,puff pastries and milks...  \n",
              "4    We have coffe,pastries,puff pastries and milks...  \n",
              "..                                                 ...  \n",
              "932  Its our one of best, you can enjoy it at just ...  \n",
              "933  Its our one of best, you can enjoy it at just ...  \n",
              "934  Its our one of best, you can enjoy it at just ...  \n",
              "935  Its our one of best, you can enjoy it at just ...  \n",
              "936  To book a table you can click on last icon on ...  \n",
              "\n",
              "[937 rows x 2 columns]"
            ],
            "text/html": [
              "\n",
              "  <div id=\"df-a922aad8-a0d8-430c-87cc-165bcd337cee\">\n",
              "    <div class=\"colab-df-container\">\n",
              "      <div>\n",
              "<style scoped>\n",
              "    .dataframe tbody tr th:only-of-type {\n",
              "        vertical-align: middle;\n",
              "    }\n",
              "\n",
              "    .dataframe tbody tr th {\n",
              "        vertical-align: top;\n",
              "    }\n",
              "\n",
              "    .dataframe thead th {\n",
              "        text-align: right;\n",
              "    }\n",
              "</style>\n",
              "<table border=\"1\" class=\"dataframe\">\n",
              "  <thead>\n",
              "    <tr style=\"text-align: right;\">\n",
              "      <th></th>\n",
              "      <th>Question</th>\n",
              "      <th>answer</th>\n",
              "    </tr>\n",
              "  </thead>\n",
              "  <tbody>\n",
              "    <tr>\n",
              "      <th>0</th>\n",
              "      <td>hey</td>\n",
              "      <td>Hello! How may I help you.</td>\n",
              "    </tr>\n",
              "    <tr>\n",
              "      <th>1</th>\n",
              "      <td>do u have coffee</td>\n",
              "      <td>Yes sir  Simple Coffee ,Cappuchino, Americano,...</td>\n",
              "    </tr>\n",
              "    <tr>\n",
              "      <th>2</th>\n",
              "      <td>i will take one espresso and 5 americano</td>\n",
              "      <td>Sir thanks for your order. You have ordered 1 ...</td>\n",
              "    </tr>\n",
              "    <tr>\n",
              "      <th>3</th>\n",
              "      <td>anything special</td>\n",
              "      <td>We have coffe,pastries,puff pastries and milks...</td>\n",
              "    </tr>\n",
              "    <tr>\n",
              "      <th>4</th>\n",
              "      <td>suggest something</td>\n",
              "      <td>We have coffe,pastries,puff pastries and milks...</td>\n",
              "    </tr>\n",
              "    <tr>\n",
              "      <th>...</th>\n",
              "      <td>...</td>\n",
              "      <td>...</td>\n",
              "    </tr>\n",
              "    <tr>\n",
              "      <th>932</th>\n",
              "      <td>what is price of French Coffee</td>\n",
              "      <td>Its our one of best, you can enjoy it at just ...</td>\n",
              "    </tr>\n",
              "    <tr>\n",
              "      <th>933</th>\n",
              "      <td>what is price of Iced Coffee Late</td>\n",
              "      <td>Its our one of best, you can enjoy it at just ...</td>\n",
              "    </tr>\n",
              "    <tr>\n",
              "      <th>934</th>\n",
              "      <td>what is price of Latte Macchiato</td>\n",
              "      <td>Its our one of best, you can enjoy it at just ...</td>\n",
              "    </tr>\n",
              "    <tr>\n",
              "      <th>935</th>\n",
              "      <td>what is price of Wainans Choco Coffee</td>\n",
              "      <td>Its our one of best, you can enjoy it at just ...</td>\n",
              "    </tr>\n",
              "    <tr>\n",
              "      <th>936</th>\n",
              "      <td>book me a table</td>\n",
              "      <td>To book a table you can click on last icon on ...</td>\n",
              "    </tr>\n",
              "  </tbody>\n",
              "</table>\n",
              "<p>937 rows × 2 columns</p>\n",
              "</div>\n",
              "      <button class=\"colab-df-convert\" onclick=\"convertToInteractive('df-a922aad8-a0d8-430c-87cc-165bcd337cee')\"\n",
              "              title=\"Convert this dataframe to an interactive table.\"\n",
              "              style=\"display:none;\">\n",
              "        \n",
              "  <svg xmlns=\"http://www.w3.org/2000/svg\" height=\"24px\"viewBox=\"0 0 24 24\"\n",
              "       width=\"24px\">\n",
              "    <path d=\"M0 0h24v24H0V0z\" fill=\"none\"/>\n",
              "    <path d=\"M18.56 5.44l.94 2.06.94-2.06 2.06-.94-2.06-.94-.94-2.06-.94 2.06-2.06.94zm-11 1L8.5 8.5l.94-2.06 2.06-.94-2.06-.94L8.5 2.5l-.94 2.06-2.06.94zm10 10l.94 2.06.94-2.06 2.06-.94-2.06-.94-.94-2.06-.94 2.06-2.06.94z\"/><path d=\"M17.41 7.96l-1.37-1.37c-.4-.4-.92-.59-1.43-.59-.52 0-1.04.2-1.43.59L10.3 9.45l-7.72 7.72c-.78.78-.78 2.05 0 2.83L4 21.41c.39.39.9.59 1.41.59.51 0 1.02-.2 1.41-.59l7.78-7.78 2.81-2.81c.8-.78.8-2.07 0-2.86zM5.41 20L4 18.59l7.72-7.72 1.47 1.35L5.41 20z\"/>\n",
              "  </svg>\n",
              "      </button>\n",
              "      \n",
              "  <style>\n",
              "    .colab-df-container {\n",
              "      display:flex;\n",
              "      flex-wrap:wrap;\n",
              "      gap: 12px;\n",
              "    }\n",
              "\n",
              "    .colab-df-convert {\n",
              "      background-color: #E8F0FE;\n",
              "      border: none;\n",
              "      border-radius: 50%;\n",
              "      cursor: pointer;\n",
              "      display: none;\n",
              "      fill: #1967D2;\n",
              "      height: 32px;\n",
              "      padding: 0 0 0 0;\n",
              "      width: 32px;\n",
              "    }\n",
              "\n",
              "    .colab-df-convert:hover {\n",
              "      background-color: #E2EBFA;\n",
              "      box-shadow: 0px 1px 2px rgba(60, 64, 67, 0.3), 0px 1px 3px 1px rgba(60, 64, 67, 0.15);\n",
              "      fill: #174EA6;\n",
              "    }\n",
              "\n",
              "    [theme=dark] .colab-df-convert {\n",
              "      background-color: #3B4455;\n",
              "      fill: #D2E3FC;\n",
              "    }\n",
              "\n",
              "    [theme=dark] .colab-df-convert:hover {\n",
              "      background-color: #434B5C;\n",
              "      box-shadow: 0px 1px 3px 1px rgba(0, 0, 0, 0.15);\n",
              "      filter: drop-shadow(0px 1px 2px rgba(0, 0, 0, 0.3));\n",
              "      fill: #FFFFFF;\n",
              "    }\n",
              "  </style>\n",
              "\n",
              "      <script>\n",
              "        const buttonEl =\n",
              "          document.querySelector('#df-a922aad8-a0d8-430c-87cc-165bcd337cee button.colab-df-convert');\n",
              "        buttonEl.style.display =\n",
              "          google.colab.kernel.accessAllowed ? 'block' : 'none';\n",
              "\n",
              "        async function convertToInteractive(key) {\n",
              "          const element = document.querySelector('#df-a922aad8-a0d8-430c-87cc-165bcd337cee');\n",
              "          const dataTable =\n",
              "            await google.colab.kernel.invokeFunction('convertToInteractive',\n",
              "                                                     [key], {});\n",
              "          if (!dataTable) return;\n",
              "\n",
              "          const docLinkHtml = 'Like what you see? Visit the ' +\n",
              "            '<a target=\"_blank\" href=https://colab.research.google.com/notebooks/data_table.ipynb>data table notebook</a>'\n",
              "            + ' to learn more about interactive tables.';\n",
              "          element.innerHTML = '';\n",
              "          dataTable['output_type'] = 'display_data';\n",
              "          await google.colab.output.renderOutput(dataTable, element);\n",
              "          const docLink = document.createElement('div');\n",
              "          docLink.innerHTML = docLinkHtml;\n",
              "          element.appendChild(docLink);\n",
              "        }\n",
              "      </script>\n",
              "    </div>\n",
              "  </div>\n",
              "  "
            ]
          },
          "metadata": {},
          "execution_count": 63
        }
      ]
    },
    {
      "cell_type": "code",
      "source": [
        "\n",
        "!pip install plotly\n",
        "!pip install gensim\n",
        "!pip install kneed\n",
        "!pip install imblearn"
      ],
      "metadata": {
        "id": "_UdjdpYnkYH_",
        "colab": {
          "base_uri": "https://localhost:8080/"
        },
        "outputId": "64366c1e-73af-4ae2-beae-0768a067dc5c"
      },
      "execution_count": null,
      "outputs": [
        {
          "output_type": "stream",
          "name": "stdout",
          "text": [
            "Requirement already satisfied: plotly in /usr/local/lib/python3.7/dist-packages (5.5.0)\n",
            "Requirement already satisfied: tenacity>=6.2.0 in /usr/local/lib/python3.7/dist-packages (from plotly) (8.0.1)\n",
            "Requirement already satisfied: six in /usr/local/lib/python3.7/dist-packages (from plotly) (1.15.0)\n",
            "Requirement already satisfied: gensim in /usr/local/lib/python3.7/dist-packages (3.6.0)\n",
            "Requirement already satisfied: numpy>=1.11.3 in /usr/local/lib/python3.7/dist-packages (from gensim) (1.21.5)\n",
            "Requirement already satisfied: scipy>=0.18.1 in /usr/local/lib/python3.7/dist-packages (from gensim) (1.4.1)\n",
            "Requirement already satisfied: smart-open>=1.2.1 in /usr/local/lib/python3.7/dist-packages (from gensim) (5.2.1)\n",
            "Requirement already satisfied: six>=1.5.0 in /usr/local/lib/python3.7/dist-packages (from gensim) (1.15.0)\n",
            "Requirement already satisfied: kneed in /usr/local/lib/python3.7/dist-packages (0.7.0)\n",
            "Requirement already satisfied: matplotlib in /usr/local/lib/python3.7/dist-packages (from kneed) (3.2.2)\n",
            "Requirement already satisfied: scipy in /usr/local/lib/python3.7/dist-packages (from kneed) (1.4.1)\n",
            "Requirement already satisfied: numpy>=1.14.2 in /usr/local/lib/python3.7/dist-packages (from kneed) (1.21.5)\n",
            "Requirement already satisfied: pyparsing!=2.0.4,!=2.1.2,!=2.1.6,>=2.0.1 in /usr/local/lib/python3.7/dist-packages (from matplotlib->kneed) (3.0.7)\n",
            "Requirement already satisfied: kiwisolver>=1.0.1 in /usr/local/lib/python3.7/dist-packages (from matplotlib->kneed) (1.4.0)\n",
            "Requirement already satisfied: cycler>=0.10 in /usr/local/lib/python3.7/dist-packages (from matplotlib->kneed) (0.11.0)\n",
            "Requirement already satisfied: python-dateutil>=2.1 in /usr/local/lib/python3.7/dist-packages (from matplotlib->kneed) (2.8.2)\n",
            "Requirement already satisfied: typing-extensions in /usr/local/lib/python3.7/dist-packages (from kiwisolver>=1.0.1->matplotlib->kneed) (3.10.0.2)\n",
            "Requirement already satisfied: six>=1.5 in /usr/local/lib/python3.7/dist-packages (from python-dateutil>=2.1->matplotlib->kneed) (1.15.0)\n",
            "Requirement already satisfied: imblearn in /usr/local/lib/python3.7/dist-packages (0.0)\n",
            "Requirement already satisfied: imbalanced-learn in /usr/local/lib/python3.7/dist-packages (from imblearn) (0.8.1)\n",
            "Requirement already satisfied: scikit-learn>=0.24 in /usr/local/lib/python3.7/dist-packages (from imbalanced-learn->imblearn) (1.0.2)\n",
            "Requirement already satisfied: scipy>=0.19.1 in /usr/local/lib/python3.7/dist-packages (from imbalanced-learn->imblearn) (1.4.1)\n",
            "Requirement already satisfied: joblib>=0.11 in /usr/local/lib/python3.7/dist-packages (from imbalanced-learn->imblearn) (1.1.0)\n",
            "Requirement already satisfied: numpy>=1.13.3 in /usr/local/lib/python3.7/dist-packages (from imbalanced-learn->imblearn) (1.21.5)\n",
            "Requirement already satisfied: threadpoolctl>=2.0.0 in /usr/local/lib/python3.7/dist-packages (from scikit-learn>=0.24->imbalanced-learn->imblearn) (3.1.0)\n"
          ]
        }
      ]
    },
    {
      "cell_type": "code",
      "source": [
        "import pandas as pd\n",
        "import numpy as np\n",
        "from matplotlib import pyplot as plt\n",
        "%matplotlib inline\n",
        "import plotly.express as px\n",
        "\n",
        "#Libraries for preprocessing\n",
        "from gensim.parsing.preprocessing import remove_stopwords\n",
        "import string\n",
        "from nltk.stem import PorterStemmer\n",
        "from nltk.tokenize import word_tokenize\n",
        "\n",
        "#Download once if using NLTK for preprocessing\n",
        "import nltk\n",
        "nltk.download('punkt')\n",
        "\n",
        "#Libraries for vectorisation\n",
        "from sklearn.feature_extraction.text import CountVectorizer, TfidfVectorizer\n",
        "from sklearn.decomposition import LatentDirichletAllocation\n",
        "\n",
        "\n",
        "\n",
        "#Libraries for clustering\n",
        "from sklearn.cluster import KMeans\n",
        "\n",
        "#Load data set for clustering\n",
        "text1 = raw['answer']\n",
        "\n"
      ],
      "metadata": {
        "id": "o1JlJaSzk4ei",
        "colab": {
          "base_uri": "https://localhost:8080/"
        },
        "outputId": "64b845ef-4da4-443e-c876-be7de9aa248f"
      },
      "execution_count": null,
      "outputs": [
        {
          "output_type": "stream",
          "name": "stdout",
          "text": [
            "[nltk_data] Downloading package punkt to /root/nltk_data...\n",
            "[nltk_data]   Package punkt is already up-to-date!\n"
          ]
        }
      ]
    },
    {
      "cell_type": "markdown",
      "source": [
        "Preprocessing\n",
        "- remove stopswords,punctuation"
      ],
      "metadata": {
        "id": "0w5HyjDnlnkP"
      }
    },
    {
      "cell_type": "code",
      "source": [
        "lst_que = [remove_stopwords(x)\\\n",
        "        .translate(str.maketrans('','',string.punctuation))\\\n",
        "        for x in text1]\n",
        "        "
      ],
      "metadata": {
        "id": "0bi0Aqu2m106"
      },
      "execution_count": null,
      "outputs": []
    },
    {
      "cell_type": "markdown",
      "source": [
        "- Stemming and making words lower case\n",
        "\n",
        "\n",
        "\n",
        "\n"
      ],
      "metadata": {
        "id": "KhjWB4GAtRC8"
      }
    },
    {
      "cell_type": "code",
      "source": [
        "from gensim.utils import save_as_line_sentence\n",
        "#Stem and make lower case\n",
        "def clean_data(sentence):\n",
        "    porter = PorterStemmer()\n",
        "    token_words = word_tokenize(sentence)\n",
        "    stem_sentence = [porter.stem(word) for word in token_words]\n",
        "    return ' '.join(stem_sentence)\n",
        "\n",
        "\n",
        "clean_ques = pd.Series([clean_data(x) for x in lst_que])\n"
      ],
      "metadata": {
        "id": "7dUm_xynsvN1"
      },
      "execution_count": null,
      "outputs": []
    },
    {
      "cell_type": "markdown",
      "source": [
        "Feature Engineering \n",
        "- BOW"
      ],
      "metadata": {
        "id": "ywrneM-rtzna"
      }
    },
    {
      "cell_type": "code",
      "source": [
        "vectorizer_cv = CountVectorizer(analyzer='word')\n",
        "X_cv = vectorizer_cv.fit_transform(clean_ques)\n"
      ],
      "metadata": {
        "id": "H1rMzR8st63t"
      },
      "execution_count": null,
      "outputs": []
    },
    {
      "cell_type": "markdown",
      "source": [
        "# Clustering Process\n",
        "- find the optimal number of clusters"
      ],
      "metadata": {
        "id": "_TOL2lK7uefU"
      }
    },
    {
      "cell_type": "code",
      "source": [
        "from kneed import KneeLocator\n",
        "number_of_clusters = 100\n",
        "wcss = []\n",
        "for i in range (1, number_of_clusters):\n",
        "  model = KMeans(n_clusters=i, \n",
        "  init='k-means++', \n",
        "  max_iter=100, # Maximum number of iterations of the k-means algorithm for a single run.\n",
        "  )  # Number of time the k-means algorithm will be run with different centroid seeds. The final results will be the best output of n_init consecutive runs in terms of inertia.\n",
        "  model.fit(X_cv)\n",
        "  wcss.append(model.inertia_)\n",
        "kl = KneeLocator(range(1, 100), wcss, curve=\"convex\", direction=\"decreasing\")\n",
        "print(kl.elbow)\n",
        "plt.plot(range(1, number_of_clusters), wcss)\n",
        "plt.xlabel('Number of clusters')\n",
        "plt.ylabel('WCSS')\n",
        "plt.show()"
      ],
      "metadata": {
        "id": "Pq_w1cWdu5mA",
        "colab": {
          "base_uri": "https://localhost:8080/",
          "height": 296
        },
        "outputId": "ca9c9753-afc5-4bdb-b5e4-1755e61a5fbc"
      },
      "execution_count": null,
      "outputs": [
        {
          "output_type": "stream",
          "name": "stdout",
          "text": [
            "18\n"
          ]
        },
        {
          "output_type": "display_data",
          "data": {
            "text/plain": [
              "<Figure size 432x288 with 1 Axes>"
            ],
            "image/png": "[encoded data removed]"
          },
          "metadata": {
            "needs_background": "light"
          }
        }
      ]
    },
    {
      "cell_type": "code",
      "source": [
        "#Create 21 clusters\n",
        "kmeans = KMeans(n_clusters=21)\n",
        "kmeans.fit(X_cv)\n",
        "result = pd.concat([text1,pd.DataFrame(X_cv.toarray(),columns=vectorizer_cv.get_feature_names())],axis=1)\n",
        "result['cluster'] = kmeans.predict(X_cv)\n",
        "result"
      ],
      "metadata": {
        "id": "fMVUhmxFulMb",
        "colab": {
          "base_uri": "https://localhost:8080/",
          "height": 468
        },
        "outputId": "8c4cd6d0-1513-4aaf-88a2-1c80e4612f6e"
      },
      "execution_count": null,
      "outputs": [
        {
          "output_type": "execute_result",
          "data": {
            "text/plain": [
              "                                                answer  150  180  189  190  \\\n",
              "0                           Hello! How may I help you.    0    0    0    0   \n",
              "1    Yes sir  Simple Coffee ,Cappuchino, Americano,...    0    0    0    0   \n",
              "2    Sir thanks for your order. You have ordered 1 ...    0    0    0    0   \n",
              "3    We have coffe,pastries,puff pastries and milks...    0    0    0    0   \n",
              "4    We have coffe,pastries,puff pastries and milks...    0    0    0    0   \n",
              "..                                                 ...  ...  ...  ...  ...   \n",
              "932  Its our one of best, you can enjoy it at just ...    0    1    0    0   \n",
              "933  Its our one of best, you can enjoy it at just ...    0    1    0    0   \n",
              "934  Its our one of best, you can enjoy it at just ...    0    1    0    0   \n",
              "935  Its our one of best, you can enjoy it at just ...    0    0    0    1   \n",
              "936  To book a table you can click on last icon on ...    0    0    0    0   \n",
              "\n",
              "     200  250  americano  americanopleas  answer  ...  way  we  \\\n",
              "0      0    0          0               0       0  ...    0   0   \n",
              "1      0    0          1               0       0  ...    0   0   \n",
              "2      0    0          0               1       0  ...    0   0   \n",
              "3      0    0          0               0       0  ...    0   1   \n",
              "4      0    0          0               0       0  ...    0   1   \n",
              "..   ...  ...        ...             ...     ...  ...  ...  ..   \n",
              "932    0    0          0               0       0  ...    0   0   \n",
              "933    0    0          0               0       0  ...    0   0   \n",
              "934    0    0          0               0       0  ...    0   0   \n",
              "935    0    0          0               0       0  ...    0   0   \n",
              "936    0    0          0               0       0  ...    0   0   \n",
              "\n",
              "     wellingtonketo  what  whi  white  would  ye  you  cluster  \n",
              "0                 0     0    0      0      0   0    1       10  \n",
              "1                 0     0    0      0      0   1    0        6  \n",
              "2                 0     0    0      0      0   0    1        4  \n",
              "3                 0     0    0      0      0   0    0       12  \n",
              "4                 0     0    0      0      0   0    0       12  \n",
              "..              ...   ...  ...    ...    ...  ..  ...      ...  \n",
              "932               0     0    0      0      0   0    0       14  \n",
              "933               0     0    0      0      0   0    0       14  \n",
              "934               0     0    0      0      0   0    0       14  \n",
              "935               0     0    0      0      0   0    0        1  \n",
              "936               0     0    0      0      0   0    0       16  \n",
              "\n",
              "[937 rows x 209 columns]"
            ],
            "text/html": [
              "\n",
              "  <div id=\"df-a9ccbf69-22d3-420b-87db-442d0abdd046\">\n",
              "    <div class=\"colab-df-container\">\n",
              "      <div>\n",
              "<style scoped>\n",
              "    .dataframe tbody tr th:only-of-type {\n",
              "        vertical-align: middle;\n",
              "    }\n",
              "\n",
              "    .dataframe tbody tr th {\n",
              "        vertical-align: top;\n",
              "    }\n",
              "\n",
              "    .dataframe thead th {\n",
              "        text-align: right;\n",
              "    }\n",
              "</style>\n",
              "<table border=\"1\" class=\"dataframe\">\n",
              "  <thead>\n",
              "    <tr style=\"text-align: right;\">\n",
              "      <th></th>\n",
              "      <th>answer</th>\n",
              "      <th>150</th>\n",
              "      <th>180</th>\n",
              "      <th>189</th>\n",
              "      <th>190</th>\n",
              "      <th>200</th>\n",
              "      <th>250</th>\n",
              "      <th>americano</th>\n",
              "      <th>americanopleas</th>\n",
              "      <th>answer</th>\n",
              "      <th>...</th>\n",
              "      <th>way</th>\n",
              "      <th>we</th>\n",
              "      <th>wellingtonketo</th>\n",
              "      <th>what</th>\n",
              "      <th>whi</th>\n",
              "      <th>white</th>\n",
              "      <th>would</th>\n",
              "      <th>ye</th>\n",
              "      <th>you</th>\n",
              "      <th>cluster</th>\n",
              "    </tr>\n",
              "  </thead>\n",
              "  <tbody>\n",
              "    <tr>\n",
              "      <th>0</th>\n",
              "      <td>Hello! How may I help you.</td>\n",
              "      <td>0</td>\n",
              "      <td>0</td>\n",
              "      <td>0</td>\n",
              "      <td>0</td>\n",
              "      <td>0</td>\n",
              "      <td>0</td>\n",
              "      <td>0</td>\n",
              "      <td>0</td>\n",
              "      <td>0</td>\n",
              "      <td>...</td>\n",
              "      <td>0</td>\n",
              "      <td>0</td>\n",
              "      <td>0</td>\n",
              "      <td>0</td>\n",
              "      <td>0</td>\n",
              "      <td>0</td>\n",
              "      <td>0</td>\n",
              "      <td>0</td>\n",
              "      <td>1</td>\n",
              "      <td>10</td>\n",
              "    </tr>\n",
              "    <tr>\n",
              "      <th>1</th>\n",
              "      <td>Yes sir  Simple Coffee ,Cappuchino, Americano,...</td>\n",
              "      <td>0</td>\n",
              "      <td>0</td>\n",
              "      <td>0</td>\n",
              "      <td>0</td>\n",
              "      <td>0</td>\n",
              "      <td>0</td>\n",
              "      <td>1</td>\n",
              "      <td>0</td>\n",
              "      <td>0</td>\n",
              "      <td>...</td>\n",
              "      <td>0</td>\n",
              "      <td>0</td>\n",
              "      <td>0</td>\n",
              "      <td>0</td>\n",
              "      <td>0</td>\n",
              "      <td>0</td>\n",
              "      <td>0</td>\n",
              "      <td>1</td>\n",
              "      <td>0</td>\n",
              "      <td>6</td>\n",
              "    </tr>\n",
              "    <tr>\n",
              "      <th>2</th>\n",
              "      <td>Sir thanks for your order. You have ordered 1 ...</td>\n",
              "      <td>0</td>\n",
              "      <td>0</td>\n",
              "      <td>0</td>\n",
              "      <td>0</td>\n",
              "      <td>0</td>\n",
              "      <td>0</td>\n",
              "      <td>0</td>\n",
              "      <td>1</td>\n",
              "      <td>0</td>\n",
              "      <td>...</td>\n",
              "      <td>0</td>\n",
              "      <td>0</td>\n",
              "      <td>0</td>\n",
              "      <td>0</td>\n",
              "      <td>0</td>\n",
              "      <td>0</td>\n",
              "      <td>0</td>\n",
              "      <td>0</td>\n",
              "      <td>1</td>\n",
              "      <td>4</td>\n",
              "    </tr>\n",
              "    <tr>\n",
              "      <th>3</th>\n",
              "      <td>We have coffe,pastries,puff pastries and milks...</td>\n",
              "      <td>0</td>\n",
              "      <td>0</td>\n",
              "      <td>0</td>\n",
              "      <td>0</td>\n",
              "      <td>0</td>\n",
              "      <td>0</td>\n",
              "      <td>0</td>\n",
              "      <td>0</td>\n",
              "      <td>0</td>\n",
              "      <td>...</td>\n",
              "      <td>0</td>\n",
              "      <td>1</td>\n",
              "      <td>0</td>\n",
              "      <td>0</td>\n",
              "      <td>0</td>\n",
              "      <td>0</td>\n",
              "      <td>0</td>\n",
              "      <td>0</td>\n",
              "      <td>0</td>\n",
              "      <td>12</td>\n",
              "    </tr>\n",
              "    <tr>\n",
              "      <th>4</th>\n",
              "      <td>We have coffe,pastries,puff pastries and milks...</td>\n",
              "      <td>0</td>\n",
              "      <td>0</td>\n",
              "      <td>0</td>\n",
              "      <td>0</td>\n",
              "      <td>0</td>\n",
              "      <td>0</td>\n",
              "      <td>0</td>\n",
              "      <td>0</td>\n",
              "      <td>0</td>\n",
              "      <td>...</td>\n",
              "      <td>0</td>\n",
              "      <td>1</td>\n",
              "      <td>0</td>\n",
              "      <td>0</td>\n",
              "      <td>0</td>\n",
              "      <td>0</td>\n",
              "      <td>0</td>\n",
              "      <td>0</td>\n",
              "      <td>0</td>\n",
              "      <td>12</td>\n",
              "    </tr>\n",
              "    <tr>\n",
              "      <th>...</th>\n",
              "      <td>...</td>\n",
              "      <td>...</td>\n",
              "      <td>...</td>\n",
              "      <td>...</td>\n",
              "      <td>...</td>\n",
              "      <td>...</td>\n",
              "      <td>...</td>\n",
              "      <td>...</td>\n",
              "      <td>...</td>\n",
              "      <td>...</td>\n",
              "      <td>...</td>\n",
              "      <td>...</td>\n",
              "      <td>...</td>\n",
              "      <td>...</td>\n",
              "      <td>...</td>\n",
              "      <td>...</td>\n",
              "      <td>...</td>\n",
              "      <td>...</td>\n",
              "      <td>...</td>\n",
              "      <td>...</td>\n",
              "      <td>...</td>\n",
              "    </tr>\n",
              "    <tr>\n",
              "      <th>932</th>\n",
              "      <td>Its our one of best, you can enjoy it at just ...</td>\n",
              "      <td>0</td>\n",
              "      <td>1</td>\n",
              "      <td>0</td>\n",
              "      <td>0</td>\n",
              "      <td>0</td>\n",
              "      <td>0</td>\n",
              "      <td>0</td>\n",
              "      <td>0</td>\n",
              "      <td>0</td>\n",
              "      <td>...</td>\n",
              "      <td>0</td>\n",
              "      <td>0</td>\n",
              "      <td>0</td>\n",
              "      <td>0</td>\n",
              "      <td>0</td>\n",
              "      <td>0</td>\n",
              "      <td>0</td>\n",
              "      <td>0</td>\n",
              "      <td>0</td>\n",
              "      <td>14</td>\n",
              "    </tr>\n",
              "    <tr>\n",
              "      <th>933</th>\n",
              "      <td>Its our one of best, you can enjoy it at just ...</td>\n",
              "      <td>0</td>\n",
              "      <td>1</td>\n",
              "      <td>0</td>\n",
              "      <td>0</td>\n",
              "      <td>0</td>\n",
              "      <td>0</td>\n",
              "      <td>0</td>\n",
              "      <td>0</td>\n",
              "      <td>0</td>\n",
              "      <td>...</td>\n",
              "      <td>0</td>\n",
              "      <td>0</td>\n",
              "      <td>0</td>\n",
              "      <td>0</td>\n",
              "      <td>0</td>\n",
              "      <td>0</td>\n",
              "      <td>0</td>\n",
              "      <td>0</td>\n",
              "      <td>0</td>\n",
              "      <td>14</td>\n",
              "    </tr>\n",
              "    <tr>\n",
              "      <th>934</th>\n",
              "      <td>Its our one of best, you can enjoy it at just ...</td>\n",
              "      <td>0</td>\n",
              "      <td>1</td>\n",
              "      <td>0</td>\n",
              "      <td>0</td>\n",
              "      <td>0</td>\n",
              "      <td>0</td>\n",
              "      <td>0</td>\n",
              "      <td>0</td>\n",
              "      <td>0</td>\n",
              "      <td>...</td>\n",
              "      <td>0</td>\n",
              "      <td>0</td>\n",
              "      <td>0</td>\n",
              "      <td>0</td>\n",
              "      <td>0</td>\n",
              "      <td>0</td>\n",
              "      <td>0</td>\n",
              "      <td>0</td>\n",
              "      <td>0</td>\n",
              "      <td>14</td>\n",
              "    </tr>\n",
              "    <tr>\n",
              "      <th>935</th>\n",
              "      <td>Its our one of best, you can enjoy it at just ...</td>\n",
              "      <td>0</td>\n",
              "      <td>0</td>\n",
              "      <td>0</td>\n",
              "      <td>1</td>\n",
              "      <td>0</td>\n",
              "      <td>0</td>\n",
              "      <td>0</td>\n",
              "      <td>0</td>\n",
              "      <td>0</td>\n",
              "      <td>...</td>\n",
              "      <td>0</td>\n",
              "      <td>0</td>\n",
              "      <td>0</td>\n",
              "      <td>0</td>\n",
              "      <td>0</td>\n",
              "      <td>0</td>\n",
              "      <td>0</td>\n",
              "      <td>0</td>\n",
              "      <td>0</td>\n",
              "      <td>1</td>\n",
              "    </tr>\n",
              "    <tr>\n",
              "      <th>936</th>\n",
              "      <td>To book a table you can click on last icon on ...</td>\n",
              "      <td>0</td>\n",
              "      <td>0</td>\n",
              "      <td>0</td>\n",
              "      <td>0</td>\n",
              "      <td>0</td>\n",
              "      <td>0</td>\n",
              "      <td>0</td>\n",
              "      <td>0</td>\n",
              "      <td>0</td>\n",
              "      <td>...</td>\n",
              "      <td>0</td>\n",
              "      <td>0</td>\n",
              "      <td>0</td>\n",
              "      <td>0</td>\n",
              "      <td>0</td>\n",
              "      <td>0</td>\n",
              "      <td>0</td>\n",
              "      <td>0</td>\n",
              "      <td>0</td>\n",
              "      <td>16</td>\n",
              "    </tr>\n",
              "  </tbody>\n",
              "</table>\n",
              "<p>937 rows × 209 columns</p>\n",
              "</div>\n",
              "      <button class=\"colab-df-convert\" onclick=\"convertToInteractive('df-a9ccbf69-22d3-420b-87db-442d0abdd046')\"\n",
              "              title=\"Convert this dataframe to an interactive table.\"\n",
              "              style=\"display:none;\">\n",
              "        \n",
              "  <svg xmlns=\"http://www.w3.org/2000/svg\" height=\"24px\"viewBox=\"0 0 24 24\"\n",
              "       width=\"24px\">\n",
              "    <path d=\"M0 0h24v24H0V0z\" fill=\"none\"/>\n",
              "    <path d=\"M18.56 5.44l.94 2.06.94-2.06 2.06-.94-2.06-.94-.94-2.06-.94 2.06-2.06.94zm-11 1L8.5 8.5l.94-2.06 2.06-.94-2.06-.94L8.5 2.5l-.94 2.06-2.06.94zm10 10l.94 2.06.94-2.06 2.06-.94-2.06-.94-.94-2.06-.94 2.06-2.06.94z\"/><path d=\"M17.41 7.96l-1.37-1.37c-.4-.4-.92-.59-1.43-.59-.52 0-1.04.2-1.43.59L10.3 9.45l-7.72 7.72c-.78.78-.78 2.05 0 2.83L4 21.41c.39.39.9.59 1.41.59.51 0 1.02-.2 1.41-.59l7.78-7.78 2.81-2.81c.8-.78.8-2.07 0-2.86zM5.41 20L4 18.59l7.72-7.72 1.47 1.35L5.41 20z\"/>\n",
              "  </svg>\n",
              "      </button>\n",
              "      \n",
              "  <style>\n",
              "    .colab-df-container {\n",
              "      display:flex;\n",
              "      flex-wrap:wrap;\n",
              "      gap: 12px;\n",
              "    }\n",
              "\n",
              "    .colab-df-convert {\n",
              "      background-color: #E8F0FE;\n",
              "      border: none;\n",
              "      border-radius: 50%;\n",
              "      cursor: pointer;\n",
              "      display: none;\n",
              "      fill: #1967D2;\n",
              "      height: 32px;\n",
              "      padding: 0 0 0 0;\n",
              "      width: 32px;\n",
              "    }\n",
              "\n",
              "    .colab-df-convert:hover {\n",
              "      background-color: #E2EBFA;\n",
              "      box-shadow: 0px 1px 2px rgba(60, 64, 67, 0.3), 0px 1px 3px 1px rgba(60, 64, 67, 0.15);\n",
              "      fill: #174EA6;\n",
              "    }\n",
              "\n",
              "    [theme=dark] .colab-df-convert {\n",
              "      background-color: #3B4455;\n",
              "      fill: #D2E3FC;\n",
              "    }\n",
              "\n",
              "    [theme=dark] .colab-df-convert:hover {\n",
              "      background-color: #434B5C;\n",
              "      box-shadow: 0px 1px 3px 1px rgba(0, 0, 0, 0.15);\n",
              "      filter: drop-shadow(0px 1px 2px rgba(0, 0, 0, 0.3));\n",
              "      fill: #FFFFFF;\n",
              "    }\n",
              "  </style>\n",
              "\n",
              "      <script>\n",
              "        const buttonEl =\n",
              "          document.querySelector('#df-a9ccbf69-22d3-420b-87db-442d0abdd046 button.colab-df-convert');\n",
              "        buttonEl.style.display =\n",
              "          google.colab.kernel.accessAllowed ? 'block' : 'none';\n",
              "\n",
              "        async function convertToInteractive(key) {\n",
              "          const element = document.querySelector('#df-a9ccbf69-22d3-420b-87db-442d0abdd046');\n",
              "          const dataTable =\n",
              "            await google.colab.kernel.invokeFunction('convertToInteractive',\n",
              "                                                     [key], {});\n",
              "          if (!dataTable) return;\n",
              "\n",
              "          const docLinkHtml = 'Like what you see? Visit the ' +\n",
              "            '<a target=\"_blank\" href=https://colab.research.google.com/notebooks/data_table.ipynb>data table notebook</a>'\n",
              "            + ' to learn more about interactive tables.';\n",
              "          element.innerHTML = '';\n",
              "          dataTable['output_type'] = 'display_data';\n",
              "          await google.colab.output.renderOutput(dataTable, element);\n",
              "          const docLink = document.createElement('div');\n",
              "          docLink.innerHTML = docLinkHtml;\n",
              "          element.appendChild(docLink);\n",
              "        }\n",
              "      </script>\n",
              "    </div>\n",
              "  </div>\n",
              "  "
            ]
          },
          "metadata": {},
          "execution_count": 70
        }
      ]
    },
    {
      "cell_type": "code",
      "source": [
        "clusters = result['cluster'].unique()\n",
        "labels = []\n",
        "for i in range(len(clusters)):\n",
        "    subset = result[result['cluster'] == clusters[i]]\n",
        "    words = ' '.join([x for x in np.where(subset.all()!=0,subset.columns,None) if x and x!='answer' and x!='cluster' and len(x.split()) == 1])\n",
        "    labels.append(words)\n",
        "labels_table = pd.DataFrame(zip(clusters,labels),columns=['cluster','label'])\n",
        "result_labelled = pd.merge(result,labels_table,on='cluster',how='left')\n",
        "new_table = result_labelled[['cluster','label']]\n",
        "new_table.insert(0,'Question',raw['Question'])\n",
        "new_table.insert(1,'Answer',raw['answer'])\n",
        "new_table\n",
        "# new_table.to_csv(r'data1.csv',index = False, header=True)"
      ],
      "metadata": {
        "id": "HG42ZYLqIN-P",
        "colab": {
          "base_uri": "https://localhost:8080/",
          "height": 424
        },
        "outputId": "5665c920-3840-4ace-e223-b87e5182cedb"
      },
      "execution_count": null,
      "outputs": [
        {
          "output_type": "execute_result",
          "data": {
            "text/plain": [
              "                                     Question  \\\n",
              "0                                         hey   \n",
              "1                            do u have coffee   \n",
              "2    i will take one espresso and 5 americano   \n",
              "3                            anything special   \n",
              "4                           suggest something   \n",
              "..                                        ...   \n",
              "932           what is price of French Coffee    \n",
              "933         what is price of Iced Coffee Late   \n",
              "934          what is price of Latte Macchiato   \n",
              "935     what is price of Wainans Choco Coffee   \n",
              "936                           book me a table   \n",
              "\n",
              "                                                Answer  cluster  \\\n",
              "0                           Hello! How may I help you.       10   \n",
              "1    Yes sir  Simple Coffee ,Cappuchino, Americano,...        6   \n",
              "2    Sir thanks for your order. You have ordered 1 ...        4   \n",
              "3    We have coffe,pastries,puff pastries and milks...       12   \n",
              "4    We have coffe,pastries,puff pastries and milks...       12   \n",
              "..                                                 ...      ...   \n",
              "932  Its our one of best, you can enjoy it at just ...       14   \n",
              "933  Its our one of best, you can enjoy it at just ...       14   \n",
              "934  Its our one of best, you can enjoy it at just ...       14   \n",
              "935  Its our one of best, you can enjoy it at just ...        1   \n",
              "936  To book a table you can click on last icon on ...       16   \n",
              "\n",
              "                                                 label  \n",
              "0                                           hello help  \n",
              "1    americano au black cappucchino cappuchino chan...  \n",
              "2                                  order sir thank you  \n",
              "3                             have like milkshakeswhat  \n",
              "4                             have like milkshakeswhat  \n",
              "..                                                 ...  \n",
              "932                               180 best enjoy it rs  \n",
              "933                               180 best enjoy it rs  \n",
              "934                               180 best enjoy it rs  \n",
              "935                                   best enjoy it rs  \n",
              "936                       book click icon left tabl to  \n",
              "\n",
              "[937 rows x 4 columns]"
            ],
            "text/html": [
              "\n",
              "  <div id=\"df-553975df-6910-462d-b81f-8640e9ba8fe6\">\n",
              "    <div class=\"colab-df-container\">\n",
              "      <div>\n",
              "<style scoped>\n",
              "    .dataframe tbody tr th:only-of-type {\n",
              "        vertical-align: middle;\n",
              "    }\n",
              "\n",
              "    .dataframe tbody tr th {\n",
              "        vertical-align: top;\n",
              "    }\n",
              "\n",
              "    .dataframe thead th {\n",
              "        text-align: right;\n",
              "    }\n",
              "</style>\n",
              "<table border=\"1\" class=\"dataframe\">\n",
              "  <thead>\n",
              "    <tr style=\"text-align: right;\">\n",
              "      <th></th>\n",
              "      <th>Question</th>\n",
              "      <th>Answer</th>\n",
              "      <th>cluster</th>\n",
              "      <th>label</th>\n",
              "    </tr>\n",
              "  </thead>\n",
              "  <tbody>\n",
              "    <tr>\n",
              "      <th>0</th>\n",
              "      <td>hey</td>\n",
              "      <td>Hello! How may I help you.</td>\n",
              "      <td>10</td>\n",
              "      <td>hello help</td>\n",
              "    </tr>\n",
              "    <tr>\n",
              "      <th>1</th>\n",
              "      <td>do u have coffee</td>\n",
              "      <td>Yes sir  Simple Coffee ,Cappuchino, Americano,...</td>\n",
              "      <td>6</td>\n",
              "      <td>americano au black cappucchino cappuchino chan...</td>\n",
              "    </tr>\n",
              "    <tr>\n",
              "      <th>2</th>\n",
              "      <td>i will take one espresso and 5 americano</td>\n",
              "      <td>Sir thanks for your order. You have ordered 1 ...</td>\n",
              "      <td>4</td>\n",
              "      <td>order sir thank you</td>\n",
              "    </tr>\n",
              "    <tr>\n",
              "      <th>3</th>\n",
              "      <td>anything special</td>\n",
              "      <td>We have coffe,pastries,puff pastries and milks...</td>\n",
              "      <td>12</td>\n",
              "      <td>have like milkshakeswhat</td>\n",
              "    </tr>\n",
              "    <tr>\n",
              "      <th>4</th>\n",
              "      <td>suggest something</td>\n",
              "      <td>We have coffe,pastries,puff pastries and milks...</td>\n",
              "      <td>12</td>\n",
              "      <td>have like milkshakeswhat</td>\n",
              "    </tr>\n",
              "    <tr>\n",
              "      <th>...</th>\n",
              "      <td>...</td>\n",
              "      <td>...</td>\n",
              "      <td>...</td>\n",
              "      <td>...</td>\n",
              "    </tr>\n",
              "    <tr>\n",
              "      <th>932</th>\n",
              "      <td>what is price of French Coffee</td>\n",
              "      <td>Its our one of best, you can enjoy it at just ...</td>\n",
              "      <td>14</td>\n",
              "      <td>180 best enjoy it rs</td>\n",
              "    </tr>\n",
              "    <tr>\n",
              "      <th>933</th>\n",
              "      <td>what is price of Iced Coffee Late</td>\n",
              "      <td>Its our one of best, you can enjoy it at just ...</td>\n",
              "      <td>14</td>\n",
              "      <td>180 best enjoy it rs</td>\n",
              "    </tr>\n",
              "    <tr>\n",
              "      <th>934</th>\n",
              "      <td>what is price of Latte Macchiato</td>\n",
              "      <td>Its our one of best, you can enjoy it at just ...</td>\n",
              "      <td>14</td>\n",
              "      <td>180 best enjoy it rs</td>\n",
              "    </tr>\n",
              "    <tr>\n",
              "      <th>935</th>\n",
              "      <td>what is price of Wainans Choco Coffee</td>\n",
              "      <td>Its our one of best, you can enjoy it at just ...</td>\n",
              "      <td>1</td>\n",
              "      <td>best enjoy it rs</td>\n",
              "    </tr>\n",
              "    <tr>\n",
              "      <th>936</th>\n",
              "      <td>book me a table</td>\n",
              "      <td>To book a table you can click on last icon on ...</td>\n",
              "      <td>16</td>\n",
              "      <td>book click icon left tabl to</td>\n",
              "    </tr>\n",
              "  </tbody>\n",
              "</table>\n",
              "<p>937 rows × 4 columns</p>\n",
              "</div>\n",
              "      <button class=\"colab-df-convert\" onclick=\"convertToInteractive('df-553975df-6910-462d-b81f-8640e9ba8fe6')\"\n",
              "              title=\"Convert this dataframe to an interactive table.\"\n",
              "              style=\"display:none;\">\n",
              "        \n",
              "  <svg xmlns=\"http://www.w3.org/2000/svg\" height=\"24px\"viewBox=\"0 0 24 24\"\n",
              "       width=\"24px\">\n",
              "    <path d=\"M0 0h24v24H0V0z\" fill=\"none\"/>\n",
              "    <path d=\"M18.56 5.44l.94 2.06.94-2.06 2.06-.94-2.06-.94-.94-2.06-.94 2.06-2.06.94zm-11 1L8.5 8.5l.94-2.06 2.06-.94-2.06-.94L8.5 2.5l-.94 2.06-2.06.94zm10 10l.94 2.06.94-2.06 2.06-.94-2.06-.94-.94-2.06-.94 2.06-2.06.94z\"/><path d=\"M17.41 7.96l-1.37-1.37c-.4-.4-.92-.59-1.43-.59-.52 0-1.04.2-1.43.59L10.3 9.45l-7.72 7.72c-.78.78-.78 2.05 0 2.83L4 21.41c.39.39.9.59 1.41.59.51 0 1.02-.2 1.41-.59l7.78-7.78 2.81-2.81c.8-.78.8-2.07 0-2.86zM5.41 20L4 18.59l7.72-7.72 1.47 1.35L5.41 20z\"/>\n",
              "  </svg>\n",
              "      </button>\n",
              "      \n",
              "  <style>\n",
              "    .colab-df-container {\n",
              "      display:flex;\n",
              "      flex-wrap:wrap;\n",
              "      gap: 12px;\n",
              "    }\n",
              "\n",
              "    .colab-df-convert {\n",
              "      background-color: #E8F0FE;\n",
              "      border: none;\n",
              "      border-radius: 50%;\n",
              "      cursor: pointer;\n",
              "      display: none;\n",
              "      fill: #1967D2;\n",
              "      height: 32px;\n",
              "      padding: 0 0 0 0;\n",
              "      width: 32px;\n",
              "    }\n",
              "\n",
              "    .colab-df-convert:hover {\n",
              "      background-color: #E2EBFA;\n",
              "      box-shadow: 0px 1px 2px rgba(60, 64, 67, 0.3), 0px 1px 3px 1px rgba(60, 64, 67, 0.15);\n",
              "      fill: #174EA6;\n",
              "    }\n",
              "\n",
              "    [theme=dark] .colab-df-convert {\n",
              "      background-color: #3B4455;\n",
              "      fill: #D2E3FC;\n",
              "    }\n",
              "\n",
              "    [theme=dark] .colab-df-convert:hover {\n",
              "      background-color: #434B5C;\n",
              "      box-shadow: 0px 1px 3px 1px rgba(0, 0, 0, 0.15);\n",
              "      filter: drop-shadow(0px 1px 2px rgba(0, 0, 0, 0.3));\n",
              "      fill: #FFFFFF;\n",
              "    }\n",
              "  </style>\n",
              "\n",
              "      <script>\n",
              "        const buttonEl =\n",
              "          document.querySelector('#df-553975df-6910-462d-b81f-8640e9ba8fe6 button.colab-df-convert');\n",
              "        buttonEl.style.display =\n",
              "          google.colab.kernel.accessAllowed ? 'block' : 'none';\n",
              "\n",
              "        async function convertToInteractive(key) {\n",
              "          const element = document.querySelector('#df-553975df-6910-462d-b81f-8640e9ba8fe6');\n",
              "          const dataTable =\n",
              "            await google.colab.kernel.invokeFunction('convertToInteractive',\n",
              "                                                     [key], {});\n",
              "          if (!dataTable) return;\n",
              "\n",
              "          const docLinkHtml = 'Like what you see? Visit the ' +\n",
              "            '<a target=\"_blank\" href=https://colab.research.google.com/notebooks/data_table.ipynb>data table notebook</a>'\n",
              "            + ' to learn more about interactive tables.';\n",
              "          element.innerHTML = '';\n",
              "          dataTable['output_type'] = 'display_data';\n",
              "          await google.colab.output.renderOutput(dataTable, element);\n",
              "          const docLink = document.createElement('div');\n",
              "          docLink.innerHTML = docLinkHtml;\n",
              "          element.appendChild(docLink);\n",
              "        }\n",
              "      </script>\n",
              "    </div>\n",
              "  </div>\n",
              "  "
            ]
          },
          "metadata": {},
          "execution_count": 71
        }
      ]
    },
    {
      "cell_type": "markdown",
      "source": [
        "# Classification\n"
      ],
      "metadata": {
        "id": "GUtO3FoE4U5i"
      }
    },
    {
      "cell_type": "markdown",
      "source": [
        "## Data Preprocessing"
      ],
      "metadata": {
        "id": "_20234Qc1Mvl"
      }
    },
    {
      "cell_type": "code",
      "source": [
        "import numpy as np\n",
        "import pandas as pd \n",
        "import matplotlib.pyplot as plt\n",
        "import seaborn as sns \n",
        "from datetime import datetime,timedelta\n",
        "import warnings \n",
        "warnings.filterwarnings('ignore') # to ignore deprecated functions"
      ],
      "metadata": {
        "id": "zE6xyxv45xaT"
      },
      "execution_count": null,
      "outputs": []
    },
    {
      "cell_type": "code",
      "source": [
        "df=pd.read_excel(\"data1_new_2.xlsx\")"
      ],
      "metadata": {
        "id": "WUvM82UX51dg"
      },
      "execution_count": null,
      "outputs": []
    },
    {
      "cell_type": "code",
      "source": [
        "df.head()"
      ],
      "metadata": {
        "id": "wp7-l9mY55w2",
        "colab": {
          "base_uri": "https://localhost:8080/",
          "height": 206
        },
        "outputId": "d12ef121-e22f-4466-be63-e32b363487aa"
      },
      "execution_count": null,
      "outputs": [
        {
          "output_type": "execute_result",
          "data": {
            "text/plain": [
              "                          Question  \\\n",
              "0    what is price of Black Coffee   \n",
              "1    what is price of Black Coffee   \n",
              "2        what is price of Espresso   \n",
              "3        what is price of Espresso   \n",
              "4  what is price of Chans Espresso   \n",
              "\n",
              "                                              Answer  cluster     label  \n",
              "0  Its our one of best, you can enjoy it at just ...      1.0  3.10 CAD  \n",
              "1  Its our one of best, you can enjoy it at just ...      1.0  3.10 CAD  \n",
              "2  Its our one of best, you can enjoy it at just ...      1.0  3.10 CAD  \n",
              "3  Its our one of best, you can enjoy it at just ...      1.0  3.10 CAD  \n",
              "4  Its our one of best, you can enjoy it at just ...      1.0  3.10 CAD  "
            ],
            "text/html": [
              "\n",
              "  <div id=\"df-c08c8b83-3121-4ddf-945b-dd92e14d8839\">\n",
              "    <div class=\"colab-df-container\">\n",
              "      <div>\n",
              "<style scoped>\n",
              "    .dataframe tbody tr th:only-of-type {\n",
              "        vertical-align: middle;\n",
              "    }\n",
              "\n",
              "    .dataframe tbody tr th {\n",
              "        vertical-align: top;\n",
              "    }\n",
              "\n",
              "    .dataframe thead th {\n",
              "        text-align: right;\n",
              "    }\n",
              "</style>\n",
              "<table border=\"1\" class=\"dataframe\">\n",
              "  <thead>\n",
              "    <tr style=\"text-align: right;\">\n",
              "      <th></th>\n",
              "      <th>Question</th>\n",
              "      <th>Answer</th>\n",
              "      <th>cluster</th>\n",
              "      <th>label</th>\n",
              "    </tr>\n",
              "  </thead>\n",
              "  <tbody>\n",
              "    <tr>\n",
              "      <th>0</th>\n",
              "      <td>what is price of Black Coffee</td>\n",
              "      <td>Its our one of best, you can enjoy it at just ...</td>\n",
              "      <td>1.0</td>\n",
              "      <td>3.10 CAD</td>\n",
              "    </tr>\n",
              "    <tr>\n",
              "      <th>1</th>\n",
              "      <td>what is price of Black Coffee</td>\n",
              "      <td>Its our one of best, you can enjoy it at just ...</td>\n",
              "      <td>1.0</td>\n",
              "      <td>3.10 CAD</td>\n",
              "    </tr>\n",
              "    <tr>\n",
              "      <th>2</th>\n",
              "      <td>what is price of Espresso</td>\n",
              "      <td>Its our one of best, you can enjoy it at just ...</td>\n",
              "      <td>1.0</td>\n",
              "      <td>3.10 CAD</td>\n",
              "    </tr>\n",
              "    <tr>\n",
              "      <th>3</th>\n",
              "      <td>what is price of Espresso</td>\n",
              "      <td>Its our one of best, you can enjoy it at just ...</td>\n",
              "      <td>1.0</td>\n",
              "      <td>3.10 CAD</td>\n",
              "    </tr>\n",
              "    <tr>\n",
              "      <th>4</th>\n",
              "      <td>what is price of Chans Espresso</td>\n",
              "      <td>Its our one of best, you can enjoy it at just ...</td>\n",
              "      <td>1.0</td>\n",
              "      <td>3.10 CAD</td>\n",
              "    </tr>\n",
              "  </tbody>\n",
              "</table>\n",
              "</div>\n",
              "      <button class=\"colab-df-convert\" onclick=\"convertToInteractive('df-c08c8b83-3121-4ddf-945b-dd92e14d8839')\"\n",
              "              title=\"Convert this dataframe to an interactive table.\"\n",
              "              style=\"display:none;\">\n",
              "        \n",
              "  <svg xmlns=\"http://www.w3.org/2000/svg\" height=\"24px\"viewBox=\"0 0 24 24\"\n",
              "       width=\"24px\">\n",
              "    <path d=\"M0 0h24v24H0V0z\" fill=\"none\"/>\n",
              "    <path d=\"M18.56 5.44l.94 2.06.94-2.06 2.06-.94-2.06-.94-.94-2.06-.94 2.06-2.06.94zm-11 1L8.5 8.5l.94-2.06 2.06-.94-2.06-.94L8.5 2.5l-.94 2.06-2.06.94zm10 10l.94 2.06.94-2.06 2.06-.94-2.06-.94-.94-2.06-.94 2.06-2.06.94z\"/><path d=\"M17.41 7.96l-1.37-1.37c-.4-.4-.92-.59-1.43-.59-.52 0-1.04.2-1.43.59L10.3 9.45l-7.72 7.72c-.78.78-.78 2.05 0 2.83L4 21.41c.39.39.9.59 1.41.59.51 0 1.02-.2 1.41-.59l7.78-7.78 2.81-2.81c.8-.78.8-2.07 0-2.86zM5.41 20L4 18.59l7.72-7.72 1.47 1.35L5.41 20z\"/>\n",
              "  </svg>\n",
              "      </button>\n",
              "      \n",
              "  <style>\n",
              "    .colab-df-container {\n",
              "      display:flex;\n",
              "      flex-wrap:wrap;\n",
              "      gap: 12px;\n",
              "    }\n",
              "\n",
              "    .colab-df-convert {\n",
              "      background-color: #E8F0FE;\n",
              "      border: none;\n",
              "      border-radius: 50%;\n",
              "      cursor: pointer;\n",
              "      display: none;\n",
              "      fill: #1967D2;\n",
              "      height: 32px;\n",
              "      padding: 0 0 0 0;\n",
              "      width: 32px;\n",
              "    }\n",
              "\n",
              "    .colab-df-convert:hover {\n",
              "      background-color: #E2EBFA;\n",
              "      box-shadow: 0px 1px 2px rgba(60, 64, 67, 0.3), 0px 1px 3px 1px rgba(60, 64, 67, 0.15);\n",
              "      fill: #174EA6;\n",
              "    }\n",
              "\n",
              "    [theme=dark] .colab-df-convert {\n",
              "      background-color: #3B4455;\n",
              "      fill: #D2E3FC;\n",
              "    }\n",
              "\n",
              "    [theme=dark] .colab-df-convert:hover {\n",
              "      background-color: #434B5C;\n",
              "      box-shadow: 0px 1px 3px 1px rgba(0, 0, 0, 0.15);\n",
              "      filter: drop-shadow(0px 1px 2px rgba(0, 0, 0, 0.3));\n",
              "      fill: #FFFFFF;\n",
              "    }\n",
              "  </style>\n",
              "\n",
              "      <script>\n",
              "        const buttonEl =\n",
              "          document.querySelector('#df-c08c8b83-3121-4ddf-945b-dd92e14d8839 button.colab-df-convert');\n",
              "        buttonEl.style.display =\n",
              "          google.colab.kernel.accessAllowed ? 'block' : 'none';\n",
              "\n",
              "        async function convertToInteractive(key) {\n",
              "          const element = document.querySelector('#df-c08c8b83-3121-4ddf-945b-dd92e14d8839');\n",
              "          const dataTable =\n",
              "            await google.colab.kernel.invokeFunction('convertToInteractive',\n",
              "                                                     [key], {});\n",
              "          if (!dataTable) return;\n",
              "\n",
              "          const docLinkHtml = 'Like what you see? Visit the ' +\n",
              "            '<a target=\"_blank\" href=https://colab.research.google.com/notebooks/data_table.ipynb>data table notebook</a>'\n",
              "            + ' to learn more about interactive tables.';\n",
              "          element.innerHTML = '';\n",
              "          dataTable['output_type'] = 'display_data';\n",
              "          await google.colab.output.renderOutput(dataTable, element);\n",
              "          const docLink = document.createElement('div');\n",
              "          docLink.innerHTML = docLinkHtml;\n",
              "          element.appendChild(docLink);\n",
              "        }\n",
              "      </script>\n",
              "    </div>\n",
              "  </div>\n",
              "  "
            ]
          },
          "metadata": {},
          "execution_count": 74
        }
      ]
    },
    {
      "cell_type": "code",
      "source": [
        "#Count Plot :- to see if the dataset is balanced or not\n",
        "target = df.groupby('cluster')['cluster'].count()\n",
        "target.plot.bar()\n"
      ],
      "metadata": {
        "id": "fJd-TJjOtSLr",
        "colab": {
          "base_uri": "https://localhost:8080/",
          "height": 309
        },
        "outputId": "817ec856-85eb-469a-a921-f9c7ea605654"
      },
      "execution_count": null,
      "outputs": [
        {
          "output_type": "execute_result",
          "data": {
            "text/plain": [
              "<matplotlib.axes._subplots.AxesSubplot at 0x7f7e90485ed0>"
            ]
          },
          "metadata": {},
          "execution_count": 75
        },
        {
          "output_type": "display_data",
          "data": {
            "text/plain": [
              "<Figure size 432x288 with 1 Axes>"
            ],
            "image/png": "[encoded data removed]"
          },
          "metadata": {
            "needs_background": "light"
          }
        }
      ]
    },
    {
      "cell_type": "code",
      "source": [
        "target"
      ],
      "metadata": {
        "id": "3acRaKwGwiFZ",
        "colab": {
          "base_uri": "https://localhost:8080/"
        },
        "outputId": "3ab2df73-6d9d-46b5-c4e8-1d5f3c142096"
      },
      "execution_count": null,
      "outputs": [
        {
          "output_type": "execute_result",
          "data": {
            "text/plain": [
              "cluster\n",
              "1.0      36\n",
              "2.0      28\n",
              "3.0      10\n",
              "4.0     340\n",
              "5.0      44\n",
              "6.0      80\n",
              "7.0      14\n",
              "8.0      88\n",
              "9.0      52\n",
              "10.0     52\n",
              "11.0      8\n",
              "12.0     20\n",
              "13.0     24\n",
              "14.0     72\n",
              "15.0      4\n",
              "16.0     16\n",
              "17.0      4\n",
              "18.0     10\n",
              "19.0     46\n",
              "20.0      4\n",
              "21.0     12\n",
              "Name: cluster, dtype: int64"
            ]
          },
          "metadata": {},
          "execution_count": 76
        }
      ]
    },
    {
      "cell_type": "code",
      "source": [
        "import nltk\n",
        "import json\n",
        "from nltk.stem import WordNetLemmatizer\n",
        "import tensorflow as tf\n",
        "from tensorflow.keras import Sequential\n",
        "from tensorflow.keras.layers import Dense, Dropout\n",
        "import pandas as pd\n",
        "import numpy as np\n",
        "nltk.download(\"punkt\")\n",
        "nltk.download('stopwords')\n",
        "nltk.download('wordnet')\n",
        "nltk.download('omw-1.4')\n",
        "import re\n",
        "import string\n",
        "import random\n",
        "import warnings"
      ],
      "metadata": {
        "id": "Df8w-NyP6AUc",
        "colab": {
          "base_uri": "https://localhost:8080/"
        },
        "outputId": "6bc8a3db-c182-4940-e2ac-c9ffd84ab443"
      },
      "execution_count": null,
      "outputs": [
        {
          "output_type": "stream",
          "name": "stdout",
          "text": [
            "[nltk_data] Downloading package punkt to /root/nltk_data...\n",
            "[nltk_data]   Package punkt is already up-to-date!\n",
            "[nltk_data] Downloading package stopwords to /root/nltk_data...\n",
            "[nltk_data]   Package stopwords is already up-to-date!\n",
            "[nltk_data] Downloading package wordnet to /root/nltk_data...\n",
            "[nltk_data]   Package wordnet is already up-to-date!\n",
            "[nltk_data] Downloading package omw-1.4 to /root/nltk_data...\n",
            "[nltk_data]   Unzipping corpora/omw-1.4.zip.\n"
          ]
        }
      ]
    },
    {
      "cell_type": "code",
      "source": [
        "lemmatizer = WordNetLemmatizer()\n",
        "warnings.filterwarnings(\"ignore\")\n",
        "#random.seed(1)\n",
        "data=df['Question']\n",
        "data"
      ],
      "metadata": {
        "id": "hKcTc6u06HHf",
        "colab": {
          "base_uri": "https://localhost:8080/"
        },
        "outputId": "bea189d6-2fbe-462c-be86-6ae3dda4eb7d"
      },
      "execution_count": null,
      "outputs": [
        {
          "output_type": "execute_result",
          "data": {
            "text/plain": [
              "0        what is price of Black Coffee\n",
              "1        what is price of Black Coffee\n",
              "2            what is price of Espresso\n",
              "3            what is price of Espresso\n",
              "4      what is price of Chans Espresso\n",
              "                    ...               \n",
              "959                how much is  Tanuki\n",
              "960         how much is  Simple Coffee\n",
              "961          how much is Simple Coffee\n",
              "962                how much is  Tanuki\n",
              "963         how much is  Simple Coffee\n",
              "Name: Question, Length: 964, dtype: object"
            ]
          },
          "metadata": {},
          "execution_count": 78
        }
      ]
    },
    {
      "cell_type": "code",
      "source": [
        "data_X = df['Question'].values.tolist()\n",
        "y = df['cluster']\n",
        "data_y = df['cluster'].values.tolist()\n",
        "classes= df['cluster'].drop_duplicates().values.tolist()\n",
        "classes = sorted(set(classes))\n",
        "print(data_X)\n",
        "print(len(data_X))\n",
        "print(data_y)\n",
        "print(classes)\n",
        "print(len(classes))"
      ],
      "metadata": {
        "id": "uWpnjZdp6J-D",
        "colab": {
          "base_uri": "https://localhost:8080/"
        },
        "outputId": "db44c0bc-f96e-4340-980e-0083e0ff0a41"
      },
      "execution_count": null,
      "outputs": [
        {
          "output_type": "stream",
          "name": "stdout",
          "text": [
            "['what is price of Black Coffee', 'what is price of Black Coffee', 'what is price of Espresso', 'what is price of Espresso', 'what is price of Chans Espresso', 'what is price of Chans Espresso', 'what is price of Con Panna', 'what is price of Black Coffee', 'what is price of Espresso', 'what is price of Black Coffee', 'what is price of Black Coffee', 'what is price of Espresso', 'what is price of Espresso', 'what is price of Chans Espresso', 'what is price of Chans Espresso', 'what is price of Con Panna', 'what is price of Black Coffee', 'what is price of Espresso', 'how much is Black Coffee', 'how much is Black Coffee', 'how much is Espresso', 'how much is Espresso', 'how much is Chans Espresso', 'how much is Chans Espresso', 'how much is Con Panna', 'how much is Black Coffee', 'how much is Espresso', 'how much is Black Coffee', 'how much is Black Coffee', 'how much is Espresso', 'how much is Espresso', 'how much is Chans Espresso', 'how much is Chans Espresso', 'how much is Con Panna', 'how much is Black Coffee', 'how much is Espresso', 'do u have milkshake', 'what do you have milkshake', 'do you have milkshake', 'do u have milkshake', 'what do you have milkshake', 'what do you have milkshake', 'do you have milkshake', 'do u have milkshake', 'what do you have milkshake', 'do you have milkshake', 'can i get have a milkshake', 'need a milkshake', 'have you milkshake', 'do u have good milkshake', 'do u have milkshake', 'what do you have milkshake', 'do you have milkshake', 'do u have milkshake', 'what do you have milkshake', 'what do you have milkshake', 'do you have milkshake', 'do u have milkshake', 'what do you have milkshake', 'do you have milkshake', 'can i get have a milkshake', 'need a milkshake', 'have you milkshake', 'do u have good milkshake', 'do u have coffee', 'what do you have coffee', 'do you have coffee', 'do u have coffee', 'what do you have coffee', 'do u have coffee', 'what do you have coffee', 'do you have coffee', 'do u have coffee', 'what do you have coffee', 'what is price of Americano', 'what is price of Egg Puff', 'what is price of Egg Puff', 'what is price of Egg Puff', 'what is price of Egg Puff', 'what is price of Americano', 'what is price of Americano', 'what is price of Americano', 'what is price of Egg Puff', 'what is price of Egg Puff', 'what is price of Egg Puff', 'what is price of Americano', 'what is price of Egg Puff', 'what is price of Egg Puff', 'what is price of Americano', 'what is price of Fruit & Cheese cerame', 'what is price of Fruit & Cheese cerame', 'what is price of Honey Slice', 'what is price of Egg Puff', 'what is price of Egg Puff', 'what is price of Egg Puff', 'what is price of Americano', 'what is price of Americano', 'what is price of Americano', 'what is price of Americano', 'what is price of Americano', 'what is price of Americano', 'what is price of Americano', 'what is price of Americano', 'what is price of Americano', 'what is price of Americano', 'what is price of Americano', 'what is price of Americano', 'what is price of Americano', 'what is price of Americano', 'what is price of Americano', 'what is price of Americano', 'what is price of Americano', 'what is price of Americano', 'what is price of Americano', 'what is price of Americano', 'what is price of Americano', 'what is price of Americano', 'what is price of Americano', 'what is price of Americano', 'what is price of Americano', 'what is price of Americano', 'what is price of Egg Puff', 'what is price of Americano', 'what is price of Americano', 'what is price of Egg Puff', 'what is price of Americano', 'what is price of Simple Cherry Puff', 'what is price of Keto Puff', 'what is price of Nutella Puff', 'what is price of Honey Slice', 'what is price of Asparagus Puff', 'what is price of Rough Puff', 'what is price of Simple Cherry Puff', 'what is price of Macrons', 'what is price of Drumstick Milkshake', 'what is price of Oreo Shake', 'what is price of Pista Shake', 'what is price of Americano', 'what is price of Americano', 'what is price of Americano', 'what is price of Egg Puff', 'what is price of Honey Slice', 'what is price of Egg Puff', 'what is price of Americano', 'what is price of Black Forest', 'what is price of Black Tie Mose', 'what is price of Honey Slice', 'what is price of Mango cream Bluree', 'what is price of Maxres Special', 'what is price of Strawberry Basque', 'what is price of Vanila Layer', 'what is price of Fruit & Cheese cerame', 'what is price of Macrons', 'what is price of Cappuchino', 'what is price of Au Laite', 'what is price of Wainans Choco Coffee', 'what is price of Americano', 'what is price of Egg Puff', 'what is price of Egg Puff', 'what is price of Egg Puff', 'what is price of Egg Puff', 'what is price of Americano', 'what is price of Americano', 'what is price of Americano', 'what is price of Egg Puff', 'what is price of Egg Puff', 'what is price of Egg Puff', 'what is price of Americano', 'what is price of Egg Puff', 'what is price of Egg Puff', 'what is price of Americano', 'what is price of Fruit & Cheese cerame', 'what is price of Fruit & Cheese cerame', 'what is price of Honey Slice', 'what is price of Egg Puff', 'what is price of Egg Puff', 'what is price of Egg Puff', 'what is price of Americano', 'what is price of Americano', 'what is price of Americano', 'what is price of Americano', 'what is price of Americano', 'what is price of Americano', 'what is price of Americano', 'what is price of Americano', 'what is price of Americano', 'what is price of Americano', 'what is price of Americano', 'what is price of Americano', 'what is price of Americano', 'what is price of Americano', 'what is price of Americano', 'what is price of Americano', 'what is price of Americano', 'what is price of Americano', 'what is price of Americano', 'what is price of Americano', 'what is price of Americano', 'what is price of Americano', 'what is price of Americano', 'what is price of Americano', 'what is price of Americano', 'what is price of Americano', 'what is price of Egg Puff', 'what is price of Americano', 'what is price of Americano', 'what is price of Egg Puff', 'what is price of Americano', 'what is price of Simple Cherry Puff', 'what is price of Keto Puff', 'what is price of Nutella Puff', 'what is price of Honey Slice', 'what is price of Asparagus Puff', 'what is price of Rough Puff', 'what is price of Simple Cherry Puff', 'what is price of Macrons', 'what is price of Drumstick Milkshake', 'what is price of Oreo Shake', 'what is price of Pista Shake', 'what is price of Americano', 'what is price of Americano', 'what is price of Americano', 'what is price of Egg Puff', 'what is price of Honey Slice', 'what is price of Egg Puff', 'what is price of Americano', 'what is price of Black Forest', 'what is price of Black Tie Mose', 'what is price of Honey Slice', 'what is price of Mango cream Bluree', 'what is price of Maxres Special', 'what is price of Strawberry Basque', 'what is price of Vanila Layer', 'what is price of Fruit & Cheese cerame', 'what is price of Macrons', 'what is price of Cappuchino', 'what is price of Au Laite', 'what is price of Wainans Choco Coffee', 'what is price of Au Laite Cappucchino', 'what is price of Au Laite Cappucchino', 'what is price of Au Laite Cappucchino', 'what is price of Au Laite Cappucchino', 'what is price of Au Laite Cappucchino', 'what is price of Au Laite Cappucchino', 'how much is Americano', 'how much is Egg Puff', 'how much is Egg Puff', 'how much is Egg Puff', 'how much is Egg Puff', 'how much is Americano', 'how much is Americano', 'how much is Americano', 'how much is Egg Puff', 'how much is Egg Puff', 'how much is Egg Puff', 'how much is Americano', 'how much is Egg Puff', 'how much is Egg Puff', 'how much is Americano', 'how much is Fruit & Cheese cerame', 'how much is Fruit & Cheese cerame', 'how much is Honey Slice', 'how much is Egg Puff', 'how much is Egg Puff', 'how much is Egg Puff', 'how much is Americano', 'how much is Americano', 'how much is Americano', 'how much is Americano', 'how much is Americano', 'how much is Americano', 'how much is Americano', 'how much is Americano', 'how much is Americano', 'how much is Americano', 'how much is Americano', 'how much is Americano', 'how much is Americano', 'how much is Americano', 'how much is Americano', 'how much is Americano', 'how much is Americano', 'how much is Americano', 'how much is Americano', 'how much is Americano', 'how much is Americano', 'how much is Americano', 'how much is Americano', 'how much is Americano', 'how much is Americano', 'how much is Americano', 'how much is Egg Puff', 'how much is Americano', 'how much is Americano', 'how much is Egg Puff', 'how much is Americano', 'how much is Simple Cherry Puff', 'how much is Keto Puff', 'how much is Nutella Puff', 'how much is Honey Slice', 'how much is Asparagus Puff', 'how much is Rough Puff', 'how much is Simple Cherry Puff', 'how much is Macrons', 'how much is Drumstick Milkshake', 'how much is Oreo Shake', 'how much is Pista Shake', 'how much is Americano', 'how much is Americano', 'how much is Americano', 'how much is Egg Puff', 'how much is Honey Slice', 'how much is Egg Puff', 'how much is Americano', 'how much is Black Forest', 'how much is Black Tie Mose', 'how much is Honey Slice', 'how much is Mango cream Bluree', 'how much is Maxres Special', 'how much is Strawberry Basque', 'how much is Vanila Layer', 'how much is Fruit & Cheese cerame', 'how much is Macrons', 'how much is Cappuchino', 'how much is Au Laite', 'how much is Wainans Choco Coffee', 'how much is Americano', 'how much is Egg Puff', 'how much is Egg Puff', 'how much is Egg Puff', 'how much is Egg Puff', 'how much is Americano', 'how much is Americano', 'how much is Americano', 'how much is Egg Puff', 'how much is Egg Puff', 'how much is Egg Puff', 'how much is Americano', 'how much is Egg Puff', 'how much is Egg Puff', 'how much is Americano', 'how much is Fruit & Cheese cerame', 'how much is Fruit & Cheese cerame', 'how much is Honey Slice', 'how much is Egg Puff', 'how much is Egg Puff', 'how much is Egg Puff', 'how much is Americano', 'how much is Americano', 'how much is Americano', 'how much is Americano', 'how much is Americano', 'how much is Americano', 'how much is Americano', 'how much is Americano', 'how much is Americano', 'how much is Americano', 'how much is Americano', 'how much is Americano', 'how much is Americano', 'how much is Americano', 'how much is Americano', 'how much is Americano', 'how much is Americano', 'how much is Americano', 'how much is Americano', 'how much is Americano', 'how much is Americano', 'how much is Americano', 'how much is Americano', 'how much is Americano', 'how much is Americano', 'how much is Americano', 'how much is Egg Puff', 'how much is Americano', 'how much is Americano', 'how much is Egg Puff', 'how much is Americano', 'how much is Simple Cherry Puff', 'how much is Keto Puff', 'how much is Nutella Puff', 'how much is Honey Slice', 'how much is Asparagus Puff', 'how much is Rough Puff', 'how much is Simple Cherry Puff', 'how much is Macrons', 'how much is Drumstick Milkshake', 'how much is Oreo Shake', 'how much is Pista Shake', 'how much is Americano', 'how much is Americano', 'how much is Americano', 'how much is Egg Puff', 'how much is Honey Slice', 'how much is Egg Puff', 'how much is Americano', 'how much is Black Forest', 'how much is Black Tie Mose', 'how much is Honey Slice', 'how much is Mango cream Bluree', 'how much is Maxres Special', 'how much is Strawberry Basque', 'how much is Vanila Layer', 'how much is Fruit & Cheese cerame', 'how much is Macrons', 'how much is Cappuchino', 'how much is Au Laite', 'how much is Wainans Choco Coffee', 'how much is Au Laite Cappucchino', 'how much is Au Laite Cappucchino', 'how much is Au Laite Cappucchino', 'how much is Au Laite Cappucchino', 'how much is Au Laite Cappucchino', 'how much is Au Laite Cappucchino', 'i will take one espresso and 5 americano', 'i will take one espresso and 2 americano', 'i will take one espresso and 5 americano', 'I will take one espresso and 2 americano', 'i will take one espresso and 5 americano', 'i will take one Avoo Shake and 2 Salted Caramel Pretzel', 'i will take one Chocolate and Vanila Combo and 5 americano', 'I will take one Mix Cupcake and 2 Strawberry Traimisu.', 'I will take one Mix Cupcake and 2 Strawberry Traimisu.', 'I will take one Mix Cupcake and 2 Strawberry Traimisu.', 'I will take one Red Velvet and 2 Strawberry Traimisu.', 'I will take one Red Velvet and 2 Strawberry Traimisu.', 'I will take one  Blueberry Puff and 2  French Pastery', 'i will take one Cinnimon Orange rolls and 5 Simple Cherry Puff', 'i will take one Nutella Puff  and 3 Egg Puff', 'i will take one Keto Puff and 2 Blaeter  tertei Puff', 'i will take one Rough Puff,Simple Cherry Puff and 2 Tomato Cheese puff.', 'i will take one Avoo Shake and 2 Salted Caramel Pretzel', 'i will take one Chocolate and Vanila Combo and 5 americano', 'i would like to have one espresso and 3 Cheery Vanila', 'can i have 5 Waffel Ice-cream', 'can i have 5 Waffel Ice-cream', 'i will take one espresso and 5 americano', 'i will take one espresso and 2 americano', 'i will take one espresso and 5 americano', 'I will take one espresso and 2 americano', 'i will take one espresso and 5 americano', 'i will take one Avoo Shake and 2 Salted Caramel Pretzel', 'i will take one Chocolate and Vanila Combo and 5 americano', 'I will take one Mix Cupcake and 2 Strawberry Traimisu.', 'I will take one Mix Cupcake and 2 Strawberry Traimisu.', 'I will take one Mix Cupcake and 2 Strawberry Traimisu.', 'I will take one Red Velvet and 2 Strawberry Traimisu.', 'I will take one Red Velvet and 2 Strawberry Traimisu.', 'I will take one  Blueberry Puff and 2  French Pastery', 'i will take one Cinnimon Orange rolls and 5 Simple Cherry Puff', 'i will take one Nutella Puff  and 3 Egg Puff', 'i will take one Keto Puff and 2 Blaeter  tertei Puff', 'i will take one Rough Puff,Simple Cherry Puff and 2 Tomato Cheese puff.', 'i will take one Avoo Shake and 2 Salted Caramel Pretzel', 'i will take one Chocolate and Vanila Combo and 5 americano', 'i would like to have one espresso and 3 Cheery Vanila', 'can i have 5 Waffel Ice-cream', 'can i have 5 Waffel Ice-cream', 'what special do u have', 'what special do u have', 'what special do u have', 'what special do u have', 'do you have', 'do you have', 'do you have', 'do you have', 'do you have', 'what do you have', 'what special do u have', 'what special do u have', 'what special do u have', 'what special do u have', 'do you have', 'do you have', 'do you have', 'do you have', 'do you have', 'what do you have', 'what special do u have', 'what special do u have', 'what special do u have', 'what special do u have', 'do you have', 'do you have', 'do you have', 'do you have', 'do you have', 'what do you have', 'what special do u have', 'what special do u have', 'what special do u have', 'what special do u have', 'do you have', 'do you have', 'do you have', 'do you have', 'do you have', 'what do you have', 'what special do u have', 'what special do u have', 'what special do u have', 'what special do u have', 'do you have', 'do you have', 'do you have', 'do you have', 'do you have', 'what do you have', 'what special do u have', 'what special do u have', 'what special do u have', 'what special do u have', 'do you have', 'do you have', 'do you have', 'do you have', 'do you have', 'what do you have', 'what special do u have', 'what special do u have', 'what special do u have', 'what special do u have', 'do you have', 'do you have', 'do you have', 'do you have', 'do you have', 'what do you have', 'what special do u have', 'what special do u have', 'what special do u have', 'what special do u have', 'do you have', 'do you have', 'do you have', 'do you have', 'do you have', 'what do you have', 'what is in the menu', 'what do you have pastery?', 'do u have pastery?', 'do you have pastery', 'do you have pastery?', 'do u have pastery', 'do u have pastery?', 'what is in the menu', 'what do you have pastery?', 'do u have pastery?', 'do you have pastery', 'do you have pastery?', 'do u have pastery', 'do u have pastery?', 'what should i take', 'what u have', 'what u have', 'what u have', 'what you have', 'what you have', 'what you have', 'suggest me something', 'suggest me something', 'suggest me something', 'suggest me something', 'suggest me something', 'suggest me something', 'suggest me something', 'suggest me something', 'suggest me something', 'suggest me something', 'suggest me something', 'suggest me something', 'suggest me something', 'suggest me something', 'suggest me something', 'suggest something', 'suggest me something', 'suggest something', 'suggest me something', 'suggest me something', 'suggest me something', 'suggest me something', 'suggest me something', 'suggest me something', 'suggest me something', 'suggest me something', 'suggest me something', 'suggest something', 'suggest me something', 'suggest me something', 'suggest me something', 'suggest me something', 'suggest me something', 'suggest me something', 'suggest me something', 'suggest me something', 'suggest me something', 'what should i take', 'what u have', 'what u have', 'what u have', 'what you have', 'what you have', 'what you have', 'suggest me something', 'suggest me something', 'suggest me something', 'suggest me something', 'suggest me something', 'suggest me something', 'suggest me something', 'suggest me something', 'suggest me something', 'suggest me something', 'suggest me something', 'suggest me something', 'suggest me something', 'suggest me something', 'suggest me something', 'suggest something', 'suggest me something', 'suggest something', 'suggest me something', 'suggest me something', 'suggest me something', 'suggest me something', 'suggest me something', 'suggest me something', 'suggest me something', 'suggest me something', 'suggest me something', 'suggest something', 'suggest me something', 'suggest me something', 'suggest me something', 'suggest me something', 'suggest me something', 'suggest me something', 'suggest me something', 'suggest me something', 'suggest me something', 'hey', 'hello', 'hey', 'hello', 'hey', 'hello', 'hey', 'hello', 'hey', 'hey', 'hello', 'hey', 'hey', 'hello', 'hello', 'hey', 'hello', 'hey', 'hello', 'hey', 'hello', 'hey', 'hello', 'hello', 'hello', 'hello', 'hey', 'hello', 'hey', 'hello', 'hey', 'hello', 'hey', 'hello', 'hey', 'hey', 'hello', 'hey', 'hey', 'hello', 'hello', 'hey', 'hello', 'hey', 'hello', 'hey', 'hello', 'hey', 'hello', 'hello', 'hello', 'hello', 'do You have Coffee Cappuchino, Americano, Au Laite Au Laite, Cappucchino, Chans Espresso, Con Panna, Black Coffee ,Espresso ,Frappe, French Coffee ,Iced Coffee, Late ,Irish Coffee ,Latte Macchiato ,Wainans Choco Coffee', 'Do You have Coffee Cappuchino, Americano, Au Laite Au Laite, Cappucchino, Chans Espresso, Con Panna, Black Coffee ,Espresso ,Frappe, French Coffee ,Iced Coffee, Late ,Irish Coffee ,Latte Macchiato ,Wainans Choco Coffee', 'do u have Coffee Cappuchino, Americano, Au Laite Au Laite, Cappucchino, Chans Espresso, Con Panna, Black Coffee ,Espresso ,Frappe, French Coffee ,Iced Coffee, Late ,Irish Coffee ,Latte Macchiato ,Wainans Choco Coffee', 'do you have espresso', 'do you have Chocolate and Vanila Combo,Avoo Shake,Apple pomegranate juice,Drumstick Milkshake,Pumpkin Shake,Malted Chocolate,Oreo Shake,Pista Shake,Mix Fruit Smothie,Tiramisu Milkshake,Banana Cream treat,Cotton candy shake,Cranberry Orange,Mint White Chocolate,Cheery Vanila,Peanut Vanila,Salted Caramel Pretzel and Smores', 'Do You have Chocolate and Vanila Combo,Avoo Shake,Apple pomegranate juice,Drumstick Milkshake,Pumpkin Shake,Malted Chocolate,Oreo Shake,Pista Shake,Mix Fruit Smothie,Tiramisu Milkshake,Banana Cream treat,Cotton candy shake,Cranberry Orange,Mint White Chocolate,Cheery Vanila,Peanut Vanila,Salted Caramel Pretzel and Smores', 'do u have Chocolate and Vanila Combo,Avoo Shake,Apple pomegranate juice,Drumstick Milkshake,Pumpkin Shake,Malted Chocolate,Oreo Shake,Pista Shake,Mix Fruit Smothie,Tiramisu Milkshake,Banana Cream treat,Cotton candy shake,Cranberry Orange,Mint White Chocolate,Cheery Vanila,Peanut Vanila,Salted Caramel Pretzel and Smores', 'do you have espresso', 'do you have Red Velvet,Strawberry Traimisu,Black Forest,Black Tie Mose,Honey Slice,Walnut Pastry,Mango cream Bluree,Maxres Special,Pineapple Shot cake,Strawberry Basque,Vanila Layer,Fruit & Cheese cerame,Mix Cupcake,Macrons,Waffel Ice-cream,Waffel Choco ?', 'do you have Red Velvet,Strawberry Traimisu,Black Forest,Black Tie Mose,Honey Slice,Walnut Pastry,Mango cream Bluree,Maxres Special,Pineapple Shot cake,Strawberry Basque,Vanila Layer,Fruit & Cheese cerame,Mix Cupcake,Macrons,Waffel Ice-cream,Waffel Choco?', 'do You have Vanila Layer,Fruit & Cheese cerame,Mix Cupcake,Macrons,Waffel Ice-cream,Waffel Choco.', 'do you have Waffel Ice-cream?', 'do u have Coffee Cappuchino, Americano, Au Laite Au Laite, Cappucchino, Chans Espresso, Con Panna, Black Coffee ,Espresso ,Frappe, French Coffee ,Iced Coffee, Late ,Irish Coffee ,Latte Macchiato ,Wainans Choco Coffee', 'do You have Blueberry Puff,Char Sui,Cinnimon Orange rolls,Easy Spinach,French Pastery,Beef Wellington,Keto Puff,Nutella Puff.', 'Do You have Nutella Puff,Asparagus Puff,Egg Puff,Rough Puff,Simple Cherry Puff,Tart Social,Blaeter  tertei Puff.\\n', 'do u have Tanuki,Tomato Cheese,Blueberry Puff.', 'do you have Blueberry Puff', 'do you have Chocolate and Vanila Combo,Avoo Shake,Apple pomegranate juice,Drumstick Milkshake,Pumpkin Shake,Malted Chocolate,Oreo Shake,Pista Shake,Mix Fruit Smothie,Tiramisu Milkshake,Banana Cream treat,Cotton candy shake,Cranberry Orange,Mint White Chocolate,Cheery Vanila,Peanut Vanila,Salted Caramel Pretzel and Smores', 'Do You have Chocolate and Vanila Combo,Avoo Shake,Apple pomegranate juice,Drumstick Milkshake,Pumpkin Shake,Malted Chocolate,Oreo Shake,Pista Shake,Mix Fruit Smothie,Tiramisu Milkshake,Banana Cream treat,Cotton candy shake,Cranberry Orange,Mint White Chocolate,Cheery Vanila,Peanut Vanila,Salted Caramel Pretzel and Smores', 'do u have Chocolate and Vanila Combo,Avoo Shake,Apple pomegranate juice,Drumstick Milkshake,Pumpkin Shake,Malted Chocolate,Oreo Shake,Pista Shake,Mix Fruit Smothie,Tiramisu Milkshake,Banana Cream treat,Cotton candy shake,Cranberry Orange,Mint White Chocolate,Cheery Vanila,Peanut Vanila,Salted Caramel Pretzel and Smores', 'do you have espresso', 'do you have Chocolate and Vanila Combo', 'excuse me do u have espresso', 'do you have espresso', 'do u have espresso', 'do you have milkshake', 'do You have Coffee Cappuchino, Americano, Au Laite Au Laite, Cappucchino, Chans Espresso, Con Panna, Black Coffee ,Espresso ,Frappe, French Coffee ,Iced Coffee, Late ,Irish Coffee ,Latte Macchiato ,Wainans Choco Coffee', 'Do You have Coffee Cappuchino, Americano, Au Laite Au Laite, Cappucchino, Chans Espresso, Con Panna, Black Coffee ,Espresso ,Frappe, French Coffee ,Iced Coffee, Late ,Irish Coffee ,Latte Macchiato ,Wainans Choco Coffee', 'do u have Coffee Cappuchino, Americano, Au Laite Au Laite, Cappucchino, Chans Espresso, Con Panna, Black Coffee ,Espresso ,Frappe, French Coffee ,Iced Coffee, Late ,Irish Coffee ,Latte Macchiato ,Wainans Choco Coffee', 'do you have espresso', 'do you have Chocolate and Vanila Combo,Avoo Shake,Apple pomegranate juice,Drumstick Milkshake,Pumpkin Shake,Malted Chocolate,Oreo Shake,Pista Shake,Mix Fruit Smothie,Tiramisu Milkshake,Banana Cream treat,Cotton candy shake,Cranberry Orange,Mint White Chocolate,Cheery Vanila,Peanut Vanila,Salted Caramel Pretzel and Smores', 'Do You have Chocolate and Vanila Combo,Avoo Shake,Apple pomegranate juice,Drumstick Milkshake,Pumpkin Shake,Malted Chocolate,Oreo Shake,Pista Shake,Mix Fruit Smothie,Tiramisu Milkshake,Banana Cream treat,Cotton candy shake,Cranberry Orange,Mint White Chocolate,Cheery Vanila,Peanut Vanila,Salted Caramel Pretzel and Smores', 'do u have Chocolate and Vanila Combo,Avoo Shake,Apple pomegranate juice,Drumstick Milkshake,Pumpkin Shake,Malted Chocolate,Oreo Shake,Pista Shake,Mix Fruit Smothie,Tiramisu Milkshake,Banana Cream treat,Cotton candy shake,Cranberry Orange,Mint White Chocolate,Cheery Vanila,Peanut Vanila,Salted Caramel Pretzel and Smores', 'do you have espresso', 'do you have Red Velvet,Strawberry Traimisu,Black Forest,Black Tie Mose,Honey Slice,Walnut Pastry,Mango cream Bluree,Maxres Special,Pineapple Shot cake,Strawberry Basque,Vanila Layer,Fruit & Cheese cerame,Mix Cupcake,Macrons,Waffel Ice-cream,Waffel Choco ?', 'do you have Red Velvet,Strawberry Traimisu,Black Forest,Black Tie Mose,Honey Slice,Walnut Pastry,Mango cream Bluree,Maxres Special,Pineapple Shot cake,Strawberry Basque,Vanila Layer,Fruit & Cheese cerame,Mix Cupcake,Macrons,Waffel Ice-cream,Waffel Choco?', 'do You have Vanila Layer,Fruit & Cheese cerame,Mix Cupcake,Macrons,Waffel Ice-cream,Waffel Choco.', 'do you have Waffel Ice-cream?', 'do u have Coffee Cappuchino, Americano, Au Laite Au Laite, Cappucchino, Chans Espresso, Con Panna, Black Coffee ,Espresso ,Frappe, French Coffee ,Iced Coffee, Late ,Irish Coffee ,Latte Macchiato ,Wainans Choco Coffee', 'do You have Blueberry Puff,Char Sui,Cinnimon Orange rolls,Easy Spinach,French Pastery,Beef Wellington,Keto Puff,Nutella Puff.', 'Do You have Nutella Puff,Asparagus Puff,Egg Puff,Rough Puff,Simple Cherry Puff,Tart Social,Blaeter  tertei Puff.\\n', 'do u have Tanuki,Tomato Cheese,Blueberry Puff.', 'do you have Blueberry Puff', 'do you have Chocolate and Vanila Combo,Avoo Shake,Apple pomegranate juice,Drumstick Milkshake,Pumpkin Shake,Malted Chocolate,Oreo Shake,Pista Shake,Mix Fruit Smothie,Tiramisu Milkshake,Banana Cream treat,Cotton candy shake,Cranberry Orange,Mint White Chocolate,Cheery Vanila,Peanut Vanila,Salted Caramel Pretzel and Smores', 'Do You have Chocolate and Vanila Combo,Avoo Shake,Apple pomegranate juice,Drumstick Milkshake,Pumpkin Shake,Malted Chocolate,Oreo Shake,Pista Shake,Mix Fruit Smothie,Tiramisu Milkshake,Banana Cream treat,Cotton candy shake,Cranberry Orange,Mint White Chocolate,Cheery Vanila,Peanut Vanila,Salted Caramel Pretzel and Smores', 'do u have Chocolate and Vanila Combo,Avoo Shake,Apple pomegranate juice,Drumstick Milkshake,Pumpkin Shake,Malted Chocolate,Oreo Shake,Pista Shake,Mix Fruit Smothie,Tiramisu Milkshake,Banana Cream treat,Cotton candy shake,Cranberry Orange,Mint White Chocolate,Cheery Vanila,Peanut Vanila,Salted Caramel Pretzel and Smores', 'do you have espresso', 'do you have Chocolate and Vanila Combo', 'excuse me do u have espresso', 'do you have espresso', 'do u have espresso', 'do you have milkshake', 'do u have puff pastery', 'what do you have in puff pastery', 'what do you have in puff pastery', 'do u have puff pastery', 'do u have puff pastery', 'what do you have in puff pastery', 'what do you have in puff pastery', 'do u have puff pastery', 'anything special', 'suggest something', 'anything special', 'suggest something', 'anything special', 'suggest something', 'anything special', 'suggest something', 'can u serve me', 'what is in the menu', 'anything special', 'suggest something', 'anything special', 'suggest something', 'anything special', 'suggest something', 'anything special', 'suggest something', 'can u serve me', 'what is in the menu', 'give me two red velvet please', 'give me two red velvet please', 'ok i will have two waffle ice-cream.', 'get me a Banana Cream treat', 'i would like to Banana Cream treat', 'i would like to Smores', 'need a Cotton candy shake', 'want a Salted Caramel Pretze', 'have you Mix Fruit Smothie', 'I will have you espresso', 'ok i will have two caffe latte', 'can i have 2 Americano', 'give me two red velvet please', 'give me two red velvet please', 'ok i will have two waffle ice-cream.', 'get me a Banana Cream treat', 'i would like to Banana Cream treat', 'i would like to Smores', 'need a Cotton candy shake', 'want a Salted Caramel Pretze', 'have you Mix Fruit Smothie', 'I will have you espresso', 'ok i will have two caffe latte', 'can i have 2 Americano', 'what is price of Easy Spinach', 'what is price of Blueberry Puff', 'what is price of Blueberry Puff', 'what is price of French Pastery', 'what is price of  Blueberry Puff', 'what is price of Cinnimon Orange rolls', 'what is price of Char Sui', 'what is price of Easy Spinach', 'what is price of Beef Wellington', 'what is price of Tart Social', 'what is price of Blaeter  tertei Puff', 'what is price of Latte Macchiato', 'what is price of Tomato Cheese', 'what is price of Strawberry Traimisu', 'what is price of Frappe', 'what is price of French Coffee', 'what is price of Iced Coffee Late', 'what is price of Latte Macchiato', 'what is price of Easy Spinach', 'what is price of Blueberry Puff', 'what is price of Blueberry Puff', 'what is price of French Pastery', 'what is price of  Blueberry Puff', 'what is price of Cinnimon Orange rolls', 'what is price of Char Sui', 'what is price of Easy Spinach', 'what is price of Beef Wellington', 'what is price of Tart Social', 'what is price of Blaeter  tertei Puff', 'what is price of Latte Macchiato', 'what is price of Tomato Cheese', 'what is price of Strawberry Traimisu', 'what is price of Frappe', 'what is price of French Coffee', 'what is price of Iced Coffee Late', 'what is price of Latte Macchiato', 'how much is Easy Spinach', 'how much is Blueberry Puff', 'how much is Blueberry Puff', 'how much is French Pastery', 'how much is  Blueberry Puff', 'how much is Cinnimon Orange rolls', 'how much is Char Sui', 'how much is Easy Spinach', 'how much is Beef Wellington', 'how much is Tart Social', 'how much is Blaeter  tertei Puff', 'how much is Latte Macchiato', 'how much is Tomato Cheese', 'how much is Strawberry Traimisu', 'how much is Frappe', 'how much is French Coffee', 'how much is Iced Coffee Late', 'how much is Latte Macchiato', 'how much is Easy Spinach', 'how much is Blueberry Puff', 'how much is Blueberry Puff', 'how much is French Pastery', 'how much is  Blueberry Puff', 'how much is Cinnimon Orange rolls', 'how much is Char Sui', 'how much is Easy Spinach', 'how much is Beef Wellington', 'how much is Tart Social', 'how much is Blaeter  tertei Puff', 'how much is Latte Macchiato', 'how much is Tomato Cheese', 'how much is Strawberry Traimisu', 'how much is Frappe', 'how much is French Coffee', 'how much is Iced Coffee Late', 'how much is Latte Macchiato', 'thank you', 'thank you', 'thank you', 'thank you', 'what is price of Chocolate and Vanila Combo', 'what is price of Tiramisu Milkshake', 'what is price of Cheery Vanila', 'what is price of Peanut Vanila', 'what is price of Chocolate and Vanila Combo', 'what is price of Tiramisu Milkshake', 'what is price of Cheery Vanila', 'what is price of Peanut Vanila', 'how much is Chocolate and Vanila Combo', 'how much is Tiramisu Milkshake', 'how much is Cheery Vanila', 'how much is Peanut Vanila', 'how much is Chocolate and Vanila Combo', 'how much is Tiramisu Milkshake', 'how much is Cheery Vanila', 'how much is Peanut Vanila', 'can i get extra sugar', 'can i get extra sugar', 'can i get extra sugar', 'can i get extra sugar', 'can i have table for 2 on 2-4-20 at 11:00', 'can i have table for 2 on 2-4-20 at 11:00', 'book me a table', 'book me a table', 'book me a table', 'book me a table', 'book me a table', 'book me a table', 'book me a table', 'book me a table', 'what is price of Avoo Shake', 'what is price of Avoo Shake', 'what is price of Pumpkin Shake', 'what is price of Malted Chocolate', 'what is price of Mix Fruit Smothie', 'what is price of Banana Cream treat', 'what is price of Cotton candy shake', 'what is price of Red Velvet', 'what is price of Walnut Pastry', 'what is price of Waffel Ice-cream', 'what is price of Waffel Choco', 'what is price of Avoo Shake', 'what is price of Avoo Shake', 'what is price of Pumpkin Shake', 'what is price of Malted Chocolate', 'what is price of Mix Fruit Smothie', 'what is price of Banana Cream treat', 'what is price of Cotton candy shake', 'what is price of Red Velvet', 'what is price of Walnut Pastry', 'what is price of Waffel Ice-cream', 'what is price of Waffel Choco', 'what price of Cotton candy shake,Cranberry Orange,Mint White Chocolate', 'what price of Cotton candy shake,Cranberry Orange,Mint White Chocolate', 'how much is Avoo Shake', 'how much is Avoo Shake', 'how much is Pumpkin Shake', 'how much is Malted Chocolate', 'how much is Mix Fruit Smothie', 'how much is Banana Cream treat', 'how much is Cotton candy shake', 'how much is Red Velvet', 'how much is Walnut Pastry', 'how much is Waffel Ice-cream', 'how much is Waffel Choco', 'how much is Avoo Shake', 'how much is Avoo Shake', 'how much is Pumpkin Shake', 'how much is Malted Chocolate', 'how much is Mix Fruit Smothie', 'how much is Banana Cream treat', 'how much is Cotton candy shake', 'how much is Red Velvet', 'how much is Walnut Pastry', 'how much is Waffel Ice-cream', 'how much is Waffel Choco', 'what is price of Nutella Puff,Asparagus Puff,Egg Puff,Rough Puff,Simpl', 'what is price of Nutella Puff,Asparagus Puff,Egg Puff,Rough Puff,Simpl', 'how much is Nutella Puff,Asparagus Puff,Egg Puff,Rough Puff,Simpl', 'how much is Nutella Puff,Asparagus Puff,Egg Puff,Rough Puff,Simpl', 'what is price of Simple Coffee', 'what is price of  Tanuki', 'what is price of  Simple Coffee', 'what is price of Simple Coffee', 'what is price of  Tanuki', 'what is price of  Simple Coffee', 'how much is Simple Coffee', 'how much is  Tanuki', 'how much is  Simple Coffee', 'how much is Simple Coffee', 'how much is  Tanuki', 'how much is  Simple Coffee']\n",
            "964\n",
            "[1.0, 1.0, 1.0, 1.0, 1.0, 1.0, 1.0, 1.0, 1.0, 1.0, 1.0, 1.0, 1.0, 1.0, 1.0, 1.0, 1.0, 1.0, 1.0, 1.0, 1.0, 1.0, 1.0, 1.0, 1.0, 1.0, 1.0, 1.0, 1.0, 1.0, 1.0, 1.0, 1.0, 1.0, 1.0, 1.0, 2.0, 2.0, 2.0, 2.0, 2.0, 2.0, 2.0, 2.0, 2.0, 2.0, 2.0, 2.0, 2.0, 2.0, 2.0, 2.0, 2.0, 2.0, 2.0, 2.0, 2.0, 2.0, 2.0, 2.0, 2.0, 2.0, 2.0, 2.0, 3.0, 3.0, 3.0, 3.0, 3.0, 3.0, 3.0, 3.0, 3.0, 3.0, 4.0, 4.0, 4.0, 4.0, 4.0, 4.0, 4.0, 4.0, 4.0, 4.0, 4.0, 4.0, 4.0, 4.0, 4.0, 4.0, 4.0, 4.0, 4.0, 4.0, 4.0, 4.0, 4.0, 4.0, 4.0, 4.0, 4.0, 4.0, 4.0, 4.0, 4.0, 4.0, 4.0, 4.0, 4.0, 4.0, 4.0, 4.0, 4.0, 4.0, 4.0, 4.0, 4.0, 4.0, 4.0, 4.0, 4.0, 4.0, 4.0, 4.0, 4.0, 4.0, 4.0, 4.0, 4.0, 4.0, 4.0, 4.0, 4.0, 4.0, 4.0, 4.0, 4.0, 4.0, 4.0, 4.0, 4.0, 4.0, 4.0, 4.0, 4.0, 4.0, 4.0, 4.0, 4.0, 4.0, 4.0, 4.0, 4.0, 4.0, 4.0, 4.0, 4.0, 4.0, 4.0, 4.0, 4.0, 4.0, 4.0, 4.0, 4.0, 4.0, 4.0, 4.0, 4.0, 4.0, 4.0, 4.0, 4.0, 4.0, 4.0, 4.0, 4.0, 4.0, 4.0, 4.0, 4.0, 4.0, 4.0, 4.0, 4.0, 4.0, 4.0, 4.0, 4.0, 4.0, 4.0, 4.0, 4.0, 4.0, 4.0, 4.0, 4.0, 4.0, 4.0, 4.0, 4.0, 4.0, 4.0, 4.0, 4.0, 4.0, 4.0, 4.0, 4.0, 4.0, 4.0, 4.0, 4.0, 4.0, 4.0, 4.0, 4.0, 4.0, 4.0, 4.0, 4.0, 4.0, 4.0, 4.0, 4.0, 4.0, 4.0, 4.0, 4.0, 4.0, 4.0, 4.0, 4.0, 4.0, 4.0, 4.0, 4.0, 4.0, 4.0, 4.0, 4.0, 4.0, 4.0, 4.0, 4.0, 4.0, 4.0, 4.0, 4.0, 4.0, 4.0, 4.0, 4.0, 4.0, 4.0, 4.0, 4.0, 4.0, 4.0, 4.0, 4.0, 4.0, 4.0, 4.0, 4.0, 4.0, 4.0, 4.0, 4.0, 4.0, 4.0, 4.0, 4.0, 4.0, 4.0, 4.0, 4.0, 4.0, 4.0, 4.0, 4.0, 4.0, 4.0, 4.0, 4.0, 4.0, 4.0, 4.0, 4.0, 4.0, 4.0, 4.0, 4.0, 4.0, 4.0, 4.0, 4.0, 4.0, 4.0, 4.0, 4.0, 4.0, 4.0, 4.0, 4.0, 4.0, 4.0, 4.0, 4.0, 4.0, 4.0, 4.0, 4.0, 4.0, 4.0, 4.0, 4.0, 4.0, 4.0, 4.0, 4.0, 4.0, 4.0, 4.0, 4.0, 4.0, 4.0, 4.0, 4.0, 4.0, 4.0, 4.0, 4.0, 4.0, 4.0, 4.0, 4.0, 4.0, 4.0, 4.0, 4.0, 4.0, 4.0, 4.0, 4.0, 4.0, 4.0, 4.0, 4.0, 4.0, 4.0, 4.0, 4.0, 4.0, 4.0, 4.0, 4.0, 4.0, 4.0, 4.0, 4.0, 4.0, 4.0, 4.0, 4.0, 4.0, 4.0, 4.0, 4.0, 4.0, 4.0, 4.0, 4.0, 4.0, 4.0, 4.0, 4.0, 4.0, 4.0, 4.0, 4.0, 4.0, 4.0, 4.0, 4.0, 4.0, 4.0, 4.0, 4.0, 4.0, 4.0, 4.0, 4.0, 4.0, 4.0, 4.0, 4.0, 4.0, 4.0, 4.0, 4.0, 4.0, 4.0, 4.0, 4.0, 4.0, 4.0, 4.0, 4.0, 4.0, 4.0, 4.0, 4.0, 4.0, 5.0, 5.0, 5.0, 5.0, 5.0, 5.0, 5.0, 5.0, 5.0, 5.0, 5.0, 5.0, 5.0, 5.0, 5.0, 5.0, 5.0, 5.0, 5.0, 5.0, 5.0, 5.0, 5.0, 5.0, 5.0, 5.0, 5.0, 5.0, 5.0, 5.0, 5.0, 5.0, 5.0, 5.0, 5.0, 5.0, 5.0, 5.0, 5.0, 5.0, 5.0, 5.0, 5.0, 5.0, 6.0, 6.0, 6.0, 6.0, 6.0, 6.0, 6.0, 6.0, 6.0, 6.0, 6.0, 6.0, 6.0, 6.0, 6.0, 6.0, 6.0, 6.0, 6.0, 6.0, 6.0, 6.0, 6.0, 6.0, 6.0, 6.0, 6.0, 6.0, 6.0, 6.0, 6.0, 6.0, 6.0, 6.0, 6.0, 6.0, 6.0, 6.0, 6.0, 6.0, 6.0, 6.0, 6.0, 6.0, 6.0, 6.0, 6.0, 6.0, 6.0, 6.0, 6.0, 6.0, 6.0, 6.0, 6.0, 6.0, 6.0, 6.0, 6.0, 6.0, 6.0, 6.0, 6.0, 6.0, 6.0, 6.0, 6.0, 6.0, 6.0, 6.0, 6.0, 6.0, 6.0, 6.0, 6.0, 6.0, 6.0, 6.0, 6.0, 6.0, 7.0, 7.0, 7.0, 7.0, 7.0, 7.0, 7.0, 7.0, 7.0, 7.0, 7.0, 7.0, 7.0, 7.0, 8.0, 8.0, 8.0, 8.0, 8.0, 8.0, 8.0, 8.0, 8.0, 8.0, 8.0, 8.0, 8.0, 8.0, 8.0, 8.0, 8.0, 8.0, 8.0, 8.0, 8.0, 8.0, 8.0, 8.0, 8.0, 8.0, 8.0, 8.0, 8.0, 8.0, 8.0, 8.0, 8.0, 8.0, 8.0, 8.0, 8.0, 8.0, 8.0, 8.0, 8.0, 8.0, 8.0, 8.0, 8.0, 8.0, 8.0, 8.0, 8.0, 8.0, 8.0, 8.0, 8.0, 8.0, 8.0, 8.0, 8.0, 8.0, 8.0, 8.0, 8.0, 8.0, 8.0, 8.0, 8.0, 8.0, 8.0, 8.0, 8.0, 8.0, 8.0, 8.0, 8.0, 8.0, 8.0, 8.0, 8.0, 8.0, 8.0, 8.0, 8.0, 8.0, 8.0, 8.0, 8.0, 8.0, 8.0, 8.0, 9.0, 9.0, 9.0, 9.0, 9.0, 9.0, 9.0, 9.0, 9.0, 9.0, 9.0, 9.0, 9.0, 9.0, 9.0, 9.0, 9.0, 9.0, 9.0, 9.0, 9.0, 9.0, 9.0, 9.0, 9.0, 9.0, 9.0, 9.0, 9.0, 9.0, 9.0, 9.0, 9.0, 9.0, 9.0, 9.0, 9.0, 9.0, 9.0, 9.0, 9.0, 9.0, 9.0, 9.0, 9.0, 9.0, 9.0, 9.0, 9.0, 9.0, 9.0, 9.0, 10.0, 10.0, 10.0, 10.0, 10.0, 10.0, 10.0, 10.0, 10.0, 10.0, 10.0, 10.0, 10.0, 10.0, 10.0, 10.0, 10.0, 10.0, 10.0, 10.0, 10.0, 10.0, 10.0, 10.0, 10.0, 10.0, 10.0, 10.0, 10.0, 10.0, 10.0, 10.0, 10.0, 10.0, 10.0, 10.0, 10.0, 10.0, 10.0, 10.0, 10.0, 10.0, 10.0, 10.0, 10.0, 10.0, 10.0, 10.0, 10.0, 10.0, 10.0, 10.0, 11.0, 11.0, 11.0, 11.0, 11.0, 11.0, 11.0, 11.0, 12.0, 12.0, 12.0, 12.0, 12.0, 12.0, 12.0, 12.0, 12.0, 12.0, 12.0, 12.0, 12.0, 12.0, 12.0, 12.0, 12.0, 12.0, 12.0, 12.0, 13.0, 13.0, 13.0, 13.0, 13.0, 13.0, 13.0, 13.0, 13.0, 13.0, 13.0, 13.0, 13.0, 13.0, 13.0, 13.0, 13.0, 13.0, 13.0, 13.0, 13.0, 13.0, 13.0, 13.0, 14.0, 14.0, 14.0, 14.0, 14.0, 14.0, 14.0, 14.0, 14.0, 14.0, 14.0, 14.0, 14.0, 14.0, 14.0, 14.0, 14.0, 14.0, 14.0, 14.0, 14.0, 14.0, 14.0, 14.0, 14.0, 14.0, 14.0, 14.0, 14.0, 14.0, 14.0, 14.0, 14.0, 14.0, 14.0, 14.0, 14.0, 14.0, 14.0, 14.0, 14.0, 14.0, 14.0, 14.0, 14.0, 14.0, 14.0, 14.0, 14.0, 14.0, 14.0, 14.0, 14.0, 14.0, 14.0, 14.0, 14.0, 14.0, 14.0, 14.0, 14.0, 14.0, 14.0, 14.0, 14.0, 14.0, 14.0, 14.0, 14.0, 14.0, 14.0, 14.0, 15.0, 15.0, 15.0, 15.0, 16.0, 16.0, 16.0, 16.0, 16.0, 16.0, 16.0, 16.0, 16.0, 16.0, 16.0, 16.0, 16.0, 16.0, 16.0, 16.0, 17.0, 17.0, 17.0, 17.0, 18.0, 18.0, 18.0, 18.0, 18.0, 18.0, 18.0, 18.0, 18.0, 18.0, 19.0, 19.0, 19.0, 19.0, 19.0, 19.0, 19.0, 19.0, 19.0, 19.0, 19.0, 19.0, 19.0, 19.0, 19.0, 19.0, 19.0, 19.0, 19.0, 19.0, 19.0, 19.0, 19.0, 19.0, 19.0, 19.0, 19.0, 19.0, 19.0, 19.0, 19.0, 19.0, 19.0, 19.0, 19.0, 19.0, 19.0, 19.0, 19.0, 19.0, 19.0, 19.0, 19.0, 19.0, 19.0, 19.0, 20.0, 20.0, 20.0, 20.0, 21.0, 21.0, 21.0, 21.0, 21.0, 21.0, 21.0, 21.0, 21.0, 21.0, 21.0, 21.0]\n",
            "[1.0, 2.0, 3.0, 4.0, 5.0, 6.0, 7.0, 8.0, 9.0, 10.0, 11.0, 12.0, 13.0, 14.0, 15.0, 16.0, 17.0, 18.0, 19.0, 20.0, 21.0]\n",
            "21\n"
          ]
        }
      ]
    },
    {
      "cell_type": "code",
      "source": [
        "words = []\n",
        "data=df['Question']\n",
        "for i in data:\n",
        "  tokens = nltk.word_tokenize(i)\n",
        "  words.extend(tokens)\n",
        "\n",
        "words = [lemmatizer.lemmatize(word.lower()) for word in words if word not in string.punctuation]\n",
        "words = sorted(set(words))\n",
        "print(words)\n"
      ],
      "metadata": {
        "id": "FTdn0h3x6NCQ",
        "colab": {
          "base_uri": "https://localhost:8080/"
        },
        "outputId": "9d1553d0-759f-4a29-9586-2b21b039c06b"
      },
      "execution_count": null,
      "outputs": [
        {
          "output_type": "stream",
          "name": "stdout",
          "text": [
            "['11:00', '2', '2-4-20', '3', '5', 'a', 'americano', 'and', 'anything', 'apple', 'asparagus', 'at', 'au', 'avoo', 'banana', 'basque', 'beef', 'black', 'blaeter', 'blueberry', 'bluree', 'book', 'caffe', 'cake', 'can', 'candy', 'cappucchino', 'cappuchino', 'caramel', 'cerame', 'chans', 'char', 'cheery', 'cheese', 'cherry', 'choco', 'chocolate', 'cinnimon', 'coffee', 'combo', 'con', 'cotton', 'cranberry', 'cream', 'cupcake', 'do', 'drumstick', 'easy', 'egg', 'espresso', 'excuse', 'extra', 'for', 'forest', 'frappe', 'french', 'fruit', 'get', 'give', 'good', 'have', 'hello', 'hey', 'honey', 'how', 'i', 'ice-cream', 'iced', 'in', 'irish', 'is', 'juice', 'keto', 'laite', 'late', 'latte', 'layer', 'like', 'macchiato', 'macron', 'malted', 'mango', 'maxres', 'me', 'menu', 'milkshake', 'mint', 'mix', 'mose', 'much', 'need', 'nutella', 'of', 'ok', 'on', 'one', 'orange', 'oreo', 'panna', 'pastery', 'pastry', 'peanut', 'pineapple', 'pista', 'please', 'pomegranate', 'pretze', 'pretzel', 'price', 'puff', 'pumpkin', 'red', 'roll', 'rough', 'salted', 'serve', 'shake', 'shot', 'should', 'simpl', 'simple', 'slice', 'smores', 'smothie', 'social', 'something', 'special', 'spinach', 'strawberry', 'sugar', 'suggest', 'sui', 'table', 'take', 'tanuki', 'tart', 'tertei', 'thank', 'the', 'tie', 'tiramisu', 'to', 'tomato', 'traimisu', 'treat', 'two', 'u', 'vanila', 'velvet', 'waffel', 'waffle', 'wainans', 'walnut', 'want', 'wellington', 'what', 'white', 'will', 'would', 'you']\n"
          ]
        }
      ]
    },
    {
      "cell_type": "code",
      "source": [
        "training = []\n",
        "dataset = []\n",
        "out_empty = [0]*len(classes)\n",
        "for idx, doc in enumerate(data_X):\n",
        "  bow = []\n",
        "  text = lemmatizer.lemmatize(doc.lower())\n",
        "  for word in words: \n",
        "    bow.append(1) if word in text else bow.append(0)\n",
        "\n",
        "  output_row = list(out_empty)\n",
        "  #print(output_row)\n",
        "  output_row[classes.index(data_y[idx])] = 1\n",
        "  #out = data_y[idx]\n",
        "  #print(out)\n",
        "  training.append([bow, output_row])\n",
        "  dataset.append([bow, output_row])\n",
        "\n",
        "#print((training[0]))\n",
        "dataset = np.array(dataset, dtype= object)\n",
        "X = np.array(list(dataset[:,0]))\n",
        "\n",
        "#random.shuffle(training)\n",
        "training = np.array(training, dtype= object)\n",
        "\n",
        "train = np.array(list(training[:,0]))\n",
        "test = np.array(list(training[:,1]))"
      ],
      "metadata": {
        "id": "iYtvGg1n6kRD"
      },
      "execution_count": null,
      "outputs": []
    },
    {
      "cell_type": "markdown",
      "source": [
        "## Handle imbalance "
      ],
      "metadata": {
        "id": "4irw-Ddk1lt8"
      }
    },
    {
      "cell_type": "code",
      "source": [
        "from imblearn.over_sampling import SMOTE # SMOTE\n",
        "sm = SMOTE(random_state=777, k_neighbors=3)\n",
        "X_sm, y_sm = sm.fit_resample(X, y.ravel())\n",
        "\n",
        "# to demonstrate the effect of SMOTE over imbalanced datasets\n",
        "fig, (ax1, ax2) = plt.subplots(ncols = 2, figsize =(15, 5))\n",
        "ax1.set_title('Before SMOTE')\n",
        "pd.Series(y).value_counts().plot.bar(ax=ax1)\n",
        "\n",
        "ax2.set_title('After SMOTE')  \n",
        "pd.Series(y_sm).value_counts().plot.bar(ax=ax2)\n",
        "\n",
        "plt.show()"
      ],
      "metadata": {
        "id": "gi-ulvJwvFeb",
        "colab": {
          "base_uri": "https://localhost:8080/",
          "height": 348
        },
        "outputId": "16cf8450-5949-41ca-e2ea-7f4903facb7f"
      },
      "execution_count": null,
      "outputs": [
        {
          "output_type": "display_data",
          "data": {
            "text/plain": [
              "<Figure size 1080x360 with 2 Axes>"
            ],
            "image/png": "[encoded data removed]"
          },
          "metadata": {
            "needs_background": "light"
          }
        }
      ]
    },
    {
      "cell_type": "code",
      "source": [
        "sm = SMOTE(random_state=777, k_neighbors=3)\n",
        "train_sm, test_sm = sm.fit_resample(train, test)\n"
      ],
      "metadata": {
        "id": "fstZ8v_0yepZ"
      },
      "execution_count": null,
      "outputs": []
    },
    {
      "cell_type": "markdown",
      "source": [
        "## Split data"
      ],
      "metadata": {
        "id": "TZPjtuG11ako"
      }
    },
    {
      "cell_type": "code",
      "source": [
        "from sklearn.model_selection import train_test_split\n",
        "X_train, X_test, y_train, y_test = train_test_split(X_sm, y_sm, test_size = 0.2,random_state=42)"
      ],
      "metadata": {
        "id": "RO_sLsAHA4S6"
      },
      "execution_count": null,
      "outputs": []
    },
    {
      "cell_type": "code",
      "source": [
        "X_train.shape, y_train.shape"
      ],
      "metadata": {
        "id": "0cOHCBtRKg2q",
        "colab": {
          "base_uri": "https://localhost:8080/"
        },
        "outputId": "a92d454a-223c-4357-b377-22774a189954"
      },
      "execution_count": null,
      "outputs": [
        {
          "output_type": "execute_result",
          "data": {
            "text/plain": [
              "((5712, 160), (5712,))"
            ]
          },
          "metadata": {},
          "execution_count": 85
        }
      ]
    },
    {
      "cell_type": "code",
      "source": [
        "X_test.shape, y_test.shape"
      ],
      "metadata": {
        "id": "-3dFRJ4sKhiK",
        "colab": {
          "base_uri": "https://localhost:8080/"
        },
        "outputId": "8a6db23c-ffb8-4eaf-f69d-c9c4eb73b777"
      },
      "execution_count": null,
      "outputs": [
        {
          "output_type": "execute_result",
          "data": {
            "text/plain": [
              "((1428, 160), (1428,))"
            ]
          },
          "metadata": {},
          "execution_count": 86
        }
      ]
    },
    {
      "cell_type": "code",
      "source": [
        "train_X, test_X, train_Y, test_y = train_test_split(train_sm, test_sm, test_size = 0.2,random_state=42)"
      ],
      "metadata": {
        "id": "XG6eT--XJcb9"
      },
      "execution_count": null,
      "outputs": []
    },
    {
      "cell_type": "code",
      "source": [
        "train_X.shape, train_Y.shape"
      ],
      "metadata": {
        "id": "ShpNmuDB6wbW",
        "colab": {
          "base_uri": "https://localhost:8080/"
        },
        "outputId": "560fa107-b8b7-4889-fd5b-75ecbf2ffc83"
      },
      "execution_count": null,
      "outputs": [
        {
          "output_type": "execute_result",
          "data": {
            "text/plain": [
              "((5712, 160), (5712, 21))"
            ]
          },
          "metadata": {},
          "execution_count": 88
        }
      ]
    },
    {
      "cell_type": "code",
      "source": [
        "test_X.shape, test_y.shape"
      ],
      "metadata": {
        "id": "G_c4PvDC6xRq",
        "colab": {
          "base_uri": "https://localhost:8080/"
        },
        "outputId": "d2aab705-9822-4ff9-c3c5-7cea0a2214bb"
      },
      "execution_count": null,
      "outputs": [
        {
          "output_type": "execute_result",
          "data": {
            "text/plain": [
              "((1428, 160), (1428, 21))"
            ]
          },
          "metadata": {},
          "execution_count": 89
        }
      ]
    },
    {
      "cell_type": "code",
      "source": [
        "print(test_y)"
      ],
      "metadata": {
        "id": "O8VBjOFetVEn",
        "colab": {
          "base_uri": "https://localhost:8080/"
        },
        "outputId": "9a9e4e95-5048-4e1f-ddd8-f15120d52896"
      },
      "execution_count": null,
      "outputs": [
        {
          "output_type": "stream",
          "name": "stdout",
          "text": [
            "[[0 0 0 ... 0 0 0]\n",
            " [0 0 0 ... 0 0 0]\n",
            " [0 0 0 ... 0 0 0]\n",
            " ...\n",
            " [0 0 0 ... 0 0 0]\n",
            " [0 0 0 ... 0 0 0]\n",
            " [0 0 0 ... 0 0 0]]\n"
          ]
        }
      ]
    },
    {
      "cell_type": "markdown",
      "source": [
        "## Naive Bayes"
      ],
      "metadata": {
        "id": "9zqrt8Cn-Nve"
      }
    },
    {
      "cell_type": "code",
      "source": [
        "from sklearn.model_selection import RepeatedStratifiedKFold\n",
        "from sklearn.metrics import classification_report,confusion_matrix\n",
        "from sklearn.metrics import f1_score, precision_score, recall_score\n",
        "from sklearn.model_selection import GridSearchCV\n",
        "from sklearn.naive_bayes import GaussianNB\n",
        "from sklearn.model_selection import GridSearchCV"
      ],
      "metadata": {
        "id": "WJvnhyM9-RNZ"
      },
      "execution_count": null,
      "outputs": []
    },
    {
      "cell_type": "code",
      "source": [
        "param_grid_nb = {\n",
        "    'var_smoothing': np.logspace(0,-2, num=100)\n",
        "}\n",
        "nbModel_grid = GridSearchCV(estimator=GaussianNB(), param_grid=param_grid_nb, verbose=1, cv=10, n_jobs=-1)"
      ],
      "metadata": {
        "id": "5RNbVhxY-eU-"
      },
      "execution_count": null,
      "outputs": []
    },
    {
      "cell_type": "code",
      "source": [
        "nbModel_grid.fit(X_train, y_train)\n",
        "best_model_nb = nbModel_grid.best_estimator_\n",
        "best_model_nb"
      ],
      "metadata": {
        "id": "8sSQSPq3-g3i",
        "colab": {
          "base_uri": "https://localhost:8080/"
        },
        "outputId": "fc3960b5-e163-4652-ee9b-22f7c63c1b8a"
      },
      "execution_count": null,
      "outputs": [
        {
          "output_type": "stream",
          "name": "stdout",
          "text": [
            "Fitting 10 folds for each of 100 candidates, totalling 1000 fits\n"
          ]
        },
        {
          "output_type": "execute_result",
          "data": {
            "text/plain": [
              "GaussianNB(var_smoothing=0.01)"
            ]
          },
          "metadata": {},
          "execution_count": 93
        }
      ]
    },
    {
      "cell_type": "code",
      "source": [
        "nb_pred=best_model_nb.predict(X_test)\n",
        "print(\"Training accuracy: {}\".format(nbModel_grid.best_score_))"
      ],
      "metadata": {
        "id": "8eN03cJr-is_",
        "colab": {
          "base_uri": "https://localhost:8080/"
        },
        "outputId": "91c5efe9-7fe0-484e-f2bf-48aba9243599"
      },
      "execution_count": null,
      "outputs": [
        {
          "output_type": "stream",
          "name": "stdout",
          "text": [
            "Training accuracy: 0.901606493331537\n"
          ]
        }
      ]
    },
    {
      "cell_type": "markdown",
      "source": [
        "## Decision Tree"
      ],
      "metadata": {
        "id": "xNh0c8P3x3zQ"
      }
    },
    {
      "cell_type": "code",
      "source": [
        "from sklearn.tree import DecisionTreeClassifier\n",
        "from sklearn.metrics import classification_report,confusion_matrix\n",
        "from sklearn.metrics import f1_score, precision_score, recall_score\n",
        "from sklearn.model_selection import GridSearchCV\n",
        "dt = DecisionTreeClassifier(random_state=42)"
      ],
      "metadata": {
        "id": "yaHRSuZD0S_m"
      },
      "execution_count": null,
      "outputs": []
    },
    {
      "cell_type": "code",
      "source": [
        "# Create the parameter grid based on the results of random search \n",
        "params = {\n",
        "    'max_depth': [5, 10, 20,25,50],\n",
        "    'min_samples_leaf': [10, 20, 50, 100,120],\n",
        "    'criterion': [\"gini\", \"entropy\"]\n",
        "}"
      ],
      "metadata": {
        "id": "kyNNWFun0XhM"
      },
      "execution_count": null,
      "outputs": []
    },
    {
      "cell_type": "code",
      "source": [
        "grid_search_dt = GridSearchCV(estimator=dt, \n",
        "                           param_grid=params, \n",
        "                           cv=10, n_jobs=-1, verbose=1, scoring = \"accuracy\")"
      ],
      "metadata": {
        "id": "1lX7EO5F0gLj"
      },
      "execution_count": null,
      "outputs": []
    },
    {
      "cell_type": "code",
      "source": [
        "grid_search_dt.fit(X_train, y_train)\n",
        "best_model_dt = grid_search_dt.best_estimator_\n",
        "best_model_dt"
      ],
      "metadata": {
        "id": "AdYxr1mt0inz",
        "colab": {
          "base_uri": "https://localhost:8080/"
        },
        "outputId": "980734c5-9d5b-431a-997f-d52ffbd4527f"
      },
      "execution_count": null,
      "outputs": [
        {
          "output_type": "stream",
          "name": "stdout",
          "text": [
            "Fitting 10 folds for each of 50 candidates, totalling 500 fits\n"
          ]
        },
        {
          "output_type": "execute_result",
          "data": {
            "text/plain": [
              "DecisionTreeClassifier(criterion='entropy', max_depth=20, min_samples_leaf=10,\n",
              "                       random_state=42)"
            ]
          },
          "metadata": {},
          "execution_count": 98
        }
      ]
    },
    {
      "cell_type": "code",
      "source": [
        "dt_pred=best_model_dt.predict(X_test)\n",
        "print(\"Training accuracy: {}\".format(grid_search_dt.best_score_))"
      ],
      "metadata": {
        "id": "q5VWD4bo0k6K",
        "colab": {
          "base_uri": "https://localhost:8080/"
        },
        "outputId": "c8f90b59-209b-4933-aafc-b2ec8ccbe579"
      },
      "execution_count": null,
      "outputs": [
        {
          "output_type": "stream",
          "name": "stdout",
          "text": [
            "Training accuracy: 0.9320704689356176\n"
          ]
        }
      ]
    },
    {
      "cell_type": "markdown",
      "source": [
        "## Deep Learning Model"
      ],
      "metadata": {
        "id": "Bah4pf_Uwp7V"
      }
    },
    {
      "cell_type": "code",
      "source": [
        "#Neural Network Classification\n",
        "\n",
        "import matplotlib.pyplot as plt\n",
        "import seaborn as sns\n",
        "import numpy as np\n",
        "from keras.models import Sequential\n",
        "from keras.layers.core import Dense, Activation\n",
        "from keras.utils import np_utils\n",
        "from tensorflow.keras.optimizers import Adam\n",
        "from keras.layers import Dropout\n",
        "from keras.wrappers.scikit_learn import KerasClassifier\n",
        "from sklearn.model_selection import GridSearchCV\n",
        "from sklearn.metrics import classification_report, confusion_matrix\n",
        "from sklearn import metrics\n"
      ],
      "metadata": {
        "id": "lqGotTbU6p97"
      },
      "execution_count": null,
      "outputs": []
    },
    {
      "cell_type": "code",
      "source": [
        "def create_model():\n",
        "  model = Sequential()\n",
        "  model.add(Dense(128, input_shape= (train_X.shape[1],), activation = \"relu\"))\n",
        "  model.add(Dropout(0.5))\n",
        "\n",
        "  model.add(Dense(64,activation=\"relu\"))\n",
        "  model.add(Dropout(0.5))\n",
        "\n",
        "  model.add(Dense(train_Y.shape[1],activation = \"softmax\"))\n",
        "  adam = Adam(learning_rate=0.01,decay = 1e-6)\n",
        "  model.compile(loss='categorical_crossentropy',optimizer = adam, metrics= [\"accuracy\"])\n",
        "  return model\n"
      ],
      "metadata": {
        "id": "S3vxu9tv25Lw"
      },
      "execution_count": null,
      "outputs": []
    },
    {
      "cell_type": "code",
      "source": [
        "model=create_model()\n",
        "model.summary()"
      ],
      "metadata": {
        "id": "jSqWlSxO8I-J",
        "colab": {
          "base_uri": "https://localhost:8080/"
        },
        "outputId": "31cecd30-8bab-4663-f60f-9b38283ded35"
      },
      "execution_count": null,
      "outputs": [
        {
          "output_type": "stream",
          "name": "stdout",
          "text": [
            "Model: \"sequential_1\"\n",
            "_________________________________________________________________\n",
            " Layer (type)                Output Shape              Param #   \n",
            "=================================================================\n",
            " dense_3 (Dense)             (None, 128)               20608     \n",
            "                                                                 \n",
            " dropout_2 (Dropout)         (None, 128)               0         \n",
            "                                                                 \n",
            " dense_4 (Dense)             (None, 64)                8256      \n",
            "                                                                 \n",
            " dropout_3 (Dropout)         (None, 64)                0         \n",
            "                                                                 \n",
            " dense_5 (Dense)             (None, 21)                1365      \n",
            "                                                                 \n",
            "=================================================================\n",
            "Total params: 30,229\n",
            "Trainable params: 30,229\n",
            "Non-trainable params: 0\n",
            "_________________________________________________________________\n"
          ]
        }
      ]
    },
    {
      "cell_type": "code",
      "source": [
        "from matplotlib import pyplot\n",
        "\n",
        "hist=model.fit(train_X, train_Y, validation_data=(test_X, test_y), batch_size=64, epochs=50, verbose=1)\n",
        "print('accuracy and loss\\n')\n",
        " \n",
        "acc = hist.history['accuracy']\n",
        "loss = hist.history['loss']\n",
        "val_acc = hist.history['val_accuracy']\n",
        "val_loss = hist.history['val_loss']\n",
        "\n",
        "pyplot.subplot(211)\n",
        "pyplot.title('Accuracy')\n",
        "pyplot.plot(acc, label='train')\n",
        "pyplot.plot(val_acc, label='test')\n",
        "pyplot.legend()\n",
        "pyplot.show()\n",
        "\n",
        "pyplot.subplot(212)\n",
        "pyplot.title('Loss')\n",
        "pyplot.plot(loss, label='train')\n",
        "pyplot.plot(val_loss, label='test')\n",
        "pyplot.legend()\n",
        "pyplot.show()\n",
        "\n",
        "loss, accuracy = model.evaluate(test_X, test_y, verbose=0)\n",
        "print(\"\\nThe accuracy and loss of the Neural Network classifier on test data is {:.2f} and {:.2f}\\n\".format(accuracy, loss))"
      ],
      "metadata": {
        "id": "EMlBZQX78WqK",
        "colab": {
          "base_uri": "https://localhost:8080/",
          "height": 1000
        },
        "outputId": "904244d8-dd49-49af-b302-a75f5b799a31"
      },
      "execution_count": null,
      "outputs": [
        {
          "output_type": "stream",
          "name": "stdout",
          "text": [
            "Epoch 1/50\n",
            "90/90 [==============================] - 1s 6ms/step - loss: 1.0949 - accuracy: 0.6541 - val_loss: 0.2054 - val_accuracy: 0.9342\n",
            "Epoch 2/50\n",
            "90/90 [==============================] - 0s 4ms/step - loss: 0.3690 - accuracy: 0.8720 - val_loss: 0.1481 - val_accuracy: 0.9433\n",
            "Epoch 3/50\n",
            "90/90 [==============================] - 0s 4ms/step - loss: 0.2899 - accuracy: 0.8976 - val_loss: 0.1226 - val_accuracy: 0.9524\n",
            "Epoch 4/50\n",
            "90/90 [==============================] - 0s 4ms/step - loss: 0.2491 - accuracy: 0.9097 - val_loss: 0.1263 - val_accuracy: 0.9559\n",
            "Epoch 5/50\n",
            "90/90 [==============================] - 1s 10ms/step - loss: 0.2377 - accuracy: 0.9154 - val_loss: 0.1202 - val_accuracy: 0.9489\n",
            "Epoch 6/50\n",
            "90/90 [==============================] - 1s 9ms/step - loss: 0.2138 - accuracy: 0.9231 - val_loss: 0.1114 - val_accuracy: 0.9531\n",
            "Epoch 7/50\n",
            "90/90 [==============================] - 0s 3ms/step - loss: 0.2153 - accuracy: 0.9205 - val_loss: 0.1079 - val_accuracy: 0.9587\n",
            "Epoch 8/50\n",
            "90/90 [==============================] - 0s 4ms/step - loss: 0.2000 - accuracy: 0.9249 - val_loss: 0.1057 - val_accuracy: 0.9573\n",
            "Epoch 9/50\n",
            "90/90 [==============================] - 0s 4ms/step - loss: 0.2010 - accuracy: 0.9256 - val_loss: 0.1043 - val_accuracy: 0.9622\n",
            "Epoch 10/50\n",
            "90/90 [==============================] - 0s 4ms/step - loss: 0.2066 - accuracy: 0.9238 - val_loss: 0.1036 - val_accuracy: 0.9594\n",
            "Epoch 11/50\n",
            "90/90 [==============================] - 0s 4ms/step - loss: 0.2101 - accuracy: 0.9217 - val_loss: 0.1091 - val_accuracy: 0.9587\n",
            "Epoch 12/50\n",
            "90/90 [==============================] - 0s 4ms/step - loss: 0.2090 - accuracy: 0.9219 - val_loss: 0.1049 - val_accuracy: 0.9545\n",
            "Epoch 13/50\n",
            "90/90 [==============================] - 0s 4ms/step - loss: 0.2049 - accuracy: 0.9210 - val_loss: 0.1054 - val_accuracy: 0.9622\n",
            "Epoch 14/50\n",
            "90/90 [==============================] - 0s 4ms/step - loss: 0.2049 - accuracy: 0.9247 - val_loss: 0.1019 - val_accuracy: 0.9622\n",
            "Epoch 15/50\n",
            "90/90 [==============================] - 0s 4ms/step - loss: 0.1960 - accuracy: 0.9305 - val_loss: 0.1060 - val_accuracy: 0.9545\n",
            "Epoch 16/50\n",
            "90/90 [==============================] - 0s 4ms/step - loss: 0.2059 - accuracy: 0.9245 - val_loss: 0.1121 - val_accuracy: 0.9594\n",
            "Epoch 17/50\n",
            "90/90 [==============================] - 0s 4ms/step - loss: 0.1944 - accuracy: 0.9272 - val_loss: 0.1012 - val_accuracy: 0.9615\n",
            "Epoch 18/50\n",
            "90/90 [==============================] - 0s 4ms/step - loss: 0.1777 - accuracy: 0.9307 - val_loss: 0.1000 - val_accuracy: 0.9622\n",
            "Epoch 19/50\n",
            "90/90 [==============================] - 0s 4ms/step - loss: 0.2035 - accuracy: 0.9317 - val_loss: 0.0953 - val_accuracy: 0.9615\n",
            "Epoch 20/50\n",
            "90/90 [==============================] - 0s 4ms/step - loss: 0.1997 - accuracy: 0.9237 - val_loss: 0.1082 - val_accuracy: 0.9559\n",
            "Epoch 21/50\n",
            "90/90 [==============================] - 0s 4ms/step - loss: 0.2031 - accuracy: 0.9254 - val_loss: 0.1030 - val_accuracy: 0.9601\n",
            "Epoch 22/50\n",
            "90/90 [==============================] - 0s 3ms/step - loss: 0.1723 - accuracy: 0.9298 - val_loss: 0.1022 - val_accuracy: 0.9615\n",
            "Epoch 23/50\n",
            "90/90 [==============================] - 0s 3ms/step - loss: 0.1749 - accuracy: 0.9312 - val_loss: 0.1103 - val_accuracy: 0.9622\n",
            "Epoch 24/50\n",
            "90/90 [==============================] - 0s 3ms/step - loss: 0.1935 - accuracy: 0.9300 - val_loss: 0.1016 - val_accuracy: 0.9622\n",
            "Epoch 25/50\n",
            "90/90 [==============================] - 0s 3ms/step - loss: 0.2031 - accuracy: 0.9305 - val_loss: 0.0995 - val_accuracy: 0.9608\n",
            "Epoch 26/50\n",
            "90/90 [==============================] - 0s 3ms/step - loss: 0.2085 - accuracy: 0.9294 - val_loss: 0.0986 - val_accuracy: 0.9622\n",
            "Epoch 27/50\n",
            "90/90 [==============================] - 0s 4ms/step - loss: 0.1711 - accuracy: 0.9298 - val_loss: 0.1042 - val_accuracy: 0.9608\n",
            "Epoch 28/50\n",
            "90/90 [==============================] - 0s 4ms/step - loss: 0.1956 - accuracy: 0.9282 - val_loss: 0.0972 - val_accuracy: 0.9615\n",
            "Epoch 29/50\n",
            "90/90 [==============================] - 0s 4ms/step - loss: 0.1834 - accuracy: 0.9294 - val_loss: 0.1042 - val_accuracy: 0.9594\n",
            "Epoch 30/50\n",
            "90/90 [==============================] - 0s 4ms/step - loss: 0.1675 - accuracy: 0.9371 - val_loss: 0.0995 - val_accuracy: 0.9580\n",
            "Epoch 31/50\n",
            "90/90 [==============================] - 0s 4ms/step - loss: 0.1879 - accuracy: 0.9301 - val_loss: 0.0947 - val_accuracy: 0.9615\n",
            "Epoch 32/50\n",
            "90/90 [==============================] - 0s 3ms/step - loss: 0.1912 - accuracy: 0.9303 - val_loss: 0.0998 - val_accuracy: 0.9615\n",
            "Epoch 33/50\n",
            "90/90 [==============================] - 0s 4ms/step - loss: 0.2079 - accuracy: 0.9310 - val_loss: 0.1017 - val_accuracy: 0.9615\n",
            "Epoch 34/50\n",
            "90/90 [==============================] - 0s 4ms/step - loss: 0.1973 - accuracy: 0.9301 - val_loss: 0.1028 - val_accuracy: 0.9601\n",
            "Epoch 35/50\n",
            "90/90 [==============================] - 0s 4ms/step - loss: 0.1707 - accuracy: 0.9347 - val_loss: 0.0992 - val_accuracy: 0.9580\n",
            "Epoch 36/50\n",
            "90/90 [==============================] - 0s 5ms/step - loss: 0.1672 - accuracy: 0.9359 - val_loss: 0.1064 - val_accuracy: 0.9615\n",
            "Epoch 37/50\n",
            "90/90 [==============================] - 0s 4ms/step - loss: 0.2067 - accuracy: 0.9286 - val_loss: 0.1025 - val_accuracy: 0.9573\n",
            "Epoch 38/50\n",
            "90/90 [==============================] - 0s 4ms/step - loss: 0.2314 - accuracy: 0.9233 - val_loss: 0.0964 - val_accuracy: 0.9573\n",
            "Epoch 39/50\n",
            "90/90 [==============================] - 0s 4ms/step - loss: 0.2206 - accuracy: 0.9291 - val_loss: 0.0986 - val_accuracy: 0.9587\n",
            "Epoch 40/50\n",
            "90/90 [==============================] - 0s 4ms/step - loss: 0.1960 - accuracy: 0.9305 - val_loss: 0.0995 - val_accuracy: 0.9594\n",
            "Epoch 41/50\n",
            "90/90 [==============================] - 0s 4ms/step - loss: 0.1672 - accuracy: 0.9354 - val_loss: 0.1058 - val_accuracy: 0.9573\n",
            "Epoch 42/50\n",
            "90/90 [==============================] - 0s 4ms/step - loss: 0.1863 - accuracy: 0.9275 - val_loss: 0.0971 - val_accuracy: 0.9615\n",
            "Epoch 43/50\n",
            "90/90 [==============================] - 0s 4ms/step - loss: 0.1744 - accuracy: 0.9338 - val_loss: 0.0972 - val_accuracy: 0.9573\n",
            "Epoch 44/50\n",
            "90/90 [==============================] - 0s 4ms/step - loss: 0.1797 - accuracy: 0.9364 - val_loss: 0.0950 - val_accuracy: 0.9615\n",
            "Epoch 45/50\n",
            "90/90 [==============================] - 0s 4ms/step - loss: 0.1900 - accuracy: 0.9328 - val_loss: 0.0988 - val_accuracy: 0.9391\n",
            "Epoch 46/50\n",
            "90/90 [==============================] - 0s 4ms/step - loss: 0.1985 - accuracy: 0.9319 - val_loss: 0.0960 - val_accuracy: 0.9622\n",
            "Epoch 47/50\n",
            "90/90 [==============================] - 0s 4ms/step - loss: 0.1790 - accuracy: 0.9354 - val_loss: 0.0939 - val_accuracy: 0.9615\n",
            "Epoch 48/50\n",
            "90/90 [==============================] - 0s 4ms/step - loss: 0.1832 - accuracy: 0.9303 - val_loss: 0.0968 - val_accuracy: 0.9615\n",
            "Epoch 49/50\n",
            "90/90 [==============================] - 0s 4ms/step - loss: 0.1818 - accuracy: 0.9336 - val_loss: 0.0949 - val_accuracy: 0.9580\n",
            "Epoch 50/50\n",
            "90/90 [==============================] - 0s 3ms/step - loss: 0.1903 - accuracy: 0.9321 - val_loss: 0.0993 - val_accuracy: 0.9566\n",
            "accuracy and loss\n",
            "\n"
          ]
        },
        {
          "output_type": "display_data",
          "data": {
            "text/plain": [
              "<Figure size 432x288 with 1 Axes>"
            ],
            "image/png": "[encoded data removed]"
          },
          "metadata": {
            "needs_background": "light"
          }
        },
        {
          "output_type": "display_data",
          "data": {
            "text/plain": [
              "<Figure size 432x288 with 1 Axes>"
            ],
            "image/png": "[encoded data removed]"
          },
          "metadata": {
            "needs_background": "light"
          }
        },
        {
          "output_type": "stream",
          "name": "stdout",
          "text": [
            "\n",
            "The accuracy and loss of the Neural Network classifier on test data is 0.96 and 0.10\n",
            "\n"
          ]
        }
      ]
    },
    {
      "cell_type": "markdown",
      "source": [
        "# Evaluation"
      ],
      "metadata": {
        "id": "XCWofEeIJeR-"
      }
    },
    {
      "cell_type": "markdown",
      "source": [
        "## Naive Bayes"
      ],
      "metadata": {
        "id": "IbHoI4SiNDUq"
      }
    },
    {
      "cell_type": "code",
      "source": [
        "print(\"Classification Report is:\\n\",classification_report(y_test,nb_pred))\n",
        "\n",
        "print(\"Training accuracy: {}\".format(nbModel_grid.best_score_))\n",
        "confusion_nb = confusion_matrix(y_test,nb_pred)\n",
        "\n",
        "cm_normalized_nb = confusion_nb.astype('float') / confusion_nb.sum(axis=1)[:, np.newaxis]\n",
        "\n",
        "print(\"\\n Confusion Matrix:\\n\")\n",
        "sns.heatmap(cm_normalized_nb, annot=True, linewidths = 0.01)\n"
      ],
      "metadata": {
        "id": "VdScve3xNWPM",
        "colab": {
          "base_uri": "https://localhost:8080/",
          "height": 859
        },
        "outputId": "caa82724-509c-4bfa-a025-d2b3315fe064"
      },
      "execution_count": null,
      "outputs": [
        {
          "output_type": "stream",
          "name": "stdout",
          "text": [
            "Classification Report is:\n",
            "               precision    recall  f1-score   support\n",
            "\n",
            "         1.0       0.85      0.91      0.88        74\n",
            "         2.0       0.99      1.00      0.99        79\n",
            "         3.0       1.00      1.00      1.00        76\n",
            "         4.0       1.00      1.00      1.00        75\n",
            "         5.0       1.00      1.00      1.00        70\n",
            "         6.0       0.78      1.00      0.88        65\n",
            "         7.0       0.83      1.00      0.91        68\n",
            "         8.0       0.66      0.94      0.77        63\n",
            "         9.0       1.00      1.00      1.00        71\n",
            "        10.0       1.00      0.72      0.84        68\n",
            "        11.0       1.00      1.00      1.00        80\n",
            "        12.0       0.87      0.44      0.58        59\n",
            "        13.0       1.00      0.82      0.90        65\n",
            "        14.0       1.00      0.86      0.92        64\n",
            "        15.0       1.00      1.00      1.00        76\n",
            "        16.0       0.78      0.84      0.81        61\n",
            "        17.0       1.00      1.00      1.00        70\n",
            "        18.0       1.00      1.00      1.00        73\n",
            "        19.0       1.00      0.64      0.78        53\n",
            "        20.0       1.00      1.00      1.00        55\n",
            "        21.0       0.77      1.00      0.87        63\n",
            "\n",
            "    accuracy                           0.92      1428\n",
            "   macro avg       0.93      0.91      0.91      1428\n",
            "weighted avg       0.93      0.92      0.92      1428\n",
            "\n",
            "Training accuracy: 0.901606493331537\n",
            "\n",
            " Confusion Matrix:\n",
            "\n"
          ]
        },
        {
          "output_type": "execute_result",
          "data": {
            "text/plain": [
              "<matplotlib.axes._subplots.AxesSubplot at 0x7f7e1c89e150>"
            ]
          },
          "metadata": {},
          "execution_count": 104
        },
        {
          "output_type": "display_data",
          "data": {
            "text/plain": [
              "<Figure size 432x288 with 2 Axes>"
            ],
            "image/png": "[encoded data removed]"
          },
          "metadata": {
            "needs_background": "light"
          }
        }
      ]
    },
    {
      "cell_type": "markdown",
      "source": [
        "## Decision Tree"
      ],
      "metadata": {
        "id": "HGDh117CNTgv"
      }
    },
    {
      "cell_type": "code",
      "source": [
        "print(\"Classification Report is:\\n\",classification_report(y_test,dt_pred))\n",
        "\n",
        "print(\"Training accuracy: {}\".format(grid_search_dt.best_score_))\n",
        "\n",
        "confusion_dt = confusion_matrix(y_test, dt_pred)\n",
        "cm_normalized_dt = confusion_dt.astype('float') / confusion_dt.sum(axis=1)[:, np.newaxis]\n",
        "\n",
        "print(\"\\n Confusion Matrix:\\n\")\n",
        "sns.heatmap(cm_normalized_dt, annot=True, linewidths = 0.01)\n"
      ],
      "metadata": {
        "id": "QR-n-cHtN-kk",
        "colab": {
          "base_uri": "https://localhost:8080/",
          "height": 859
        },
        "outputId": "55cbbf31-ff07-4cdb-eab1-6f5959aec7aa"
      },
      "execution_count": null,
      "outputs": [
        {
          "output_type": "stream",
          "name": "stdout",
          "text": [
            "Classification Report is:\n",
            "               precision    recall  f1-score   support\n",
            "\n",
            "         1.0       1.00      0.91      0.95        74\n",
            "         2.0       0.99      1.00      0.99        79\n",
            "         3.0       1.00      1.00      1.00        76\n",
            "         4.0       0.98      0.81      0.89        75\n",
            "         5.0       0.97      1.00      0.99        70\n",
            "         6.0       0.93      1.00      0.96        65\n",
            "         7.0       0.96      1.00      0.98        68\n",
            "         8.0       0.70      0.98      0.82        63\n",
            "         9.0       1.00      1.00      1.00        71\n",
            "        10.0       1.00      0.88      0.94        68\n",
            "        11.0       0.98      1.00      0.99        80\n",
            "        12.0       1.00      0.53      0.69        59\n",
            "        13.0       1.00      1.00      1.00        65\n",
            "        14.0       0.80      0.83      0.82        64\n",
            "        15.0       1.00      1.00      1.00        76\n",
            "        16.0       0.90      0.90      0.90        61\n",
            "        17.0       1.00      1.00      1.00        70\n",
            "        18.0       1.00      1.00      1.00        73\n",
            "        19.0       0.80      0.81      0.80        53\n",
            "        20.0       1.00      1.00      1.00        55\n",
            "        21.0       0.77      0.95      0.85        63\n",
            "\n",
            "    accuracy                           0.94      1428\n",
            "   macro avg       0.94      0.93      0.93      1428\n",
            "weighted avg       0.95      0.94      0.94      1428\n",
            "\n",
            "Training accuracy: 0.9320704689356176\n",
            "\n",
            " Confusion Matrix:\n",
            "\n"
          ]
        },
        {
          "output_type": "execute_result",
          "data": {
            "text/plain": [
              "<matplotlib.axes._subplots.AxesSubplot at 0x7f7e17f7f290>"
            ]
          },
          "metadata": {},
          "execution_count": 105
        },
        {
          "output_type": "display_data",
          "data": {
            "text/plain": [
              "<Figure size 432x288 with 2 Axes>"
            ],
            "image/png": "[encoded data removed]"
          },
          "metadata": {
            "needs_background": "light"
          }
        }
      ]
    },
    {
      "cell_type": "markdown",
      "source": [
        "## Deep Learning"
      ],
      "metadata": {
        "id": "80bEr3CMOPJH"
      }
    },
    {
      "cell_type": "code",
      "source": [
        "#Deep learning evaluation\n",
        "pred = model.predict(test_X)\n",
        "y_pred = np.argmax(pred, axis=1)\n",
        "test_labels=np.argmax(test_y, axis=1)\n",
        "\n",
        "\n",
        "from sklearn.metrics import confusion_matrix\n",
        "matrix = confusion_matrix(test_labels,y_pred)\n",
        "matrix"
      ],
      "metadata": {
        "id": "BWxZMaRjEv1g",
        "colab": {
          "base_uri": "https://localhost:8080/"
        },
        "outputId": "ea40f43f-a359-42bc-ddd2-e2a295e51776"
      },
      "execution_count": null,
      "outputs": [
        {
          "output_type": "execute_result",
          "data": {
            "text/plain": [
              "array([[67,  0,  0,  0,  0,  0,  0,  0,  0,  0,  0,  0,  0,  4,  0,  0,\n",
              "         0,  0,  0,  0,  3],\n",
              "       [ 0, 79,  0,  0,  0,  0,  0,  0,  0,  0,  0,  0,  0,  0,  0,  0,\n",
              "         0,  0,  0,  0,  0],\n",
              "       [ 0,  0, 76,  0,  0,  0,  0,  0,  0,  0,  0,  0,  0,  0,  0,  0,\n",
              "         0,  0,  0,  0,  0],\n",
              "       [ 0,  0,  0, 75,  0,  0,  0,  0,  0,  0,  0,  0,  0,  0,  0,  0,\n",
              "         0,  0,  0,  0,  0],\n",
              "       [ 0,  0,  0,  0, 70,  0,  0,  0,  0,  0,  0,  0,  0,  0,  0,  0,\n",
              "         0,  0,  0,  0,  0],\n",
              "       [ 0,  0,  0,  0,  0, 65,  0,  0,  0,  0,  0,  0,  0,  0,  0,  0,\n",
              "         0,  0,  0,  0,  0],\n",
              "       [ 0,  0,  0,  0,  0,  0, 68,  0,  0,  0,  0,  0,  0,  0,  0,  0,\n",
              "         0,  0,  0,  0,  0],\n",
              "       [ 0,  0,  0,  0,  0,  0,  1, 62,  0,  0,  0,  0,  0,  0,  0,  0,\n",
              "         0,  0,  0,  0,  0],\n",
              "       [ 0,  0,  0,  0,  0,  0,  0,  0, 71,  0,  0,  0,  0,  0,  0,  0,\n",
              "         0,  0,  0,  0,  0],\n",
              "       [ 0,  1,  0,  0,  0,  5,  0,  0,  0, 62,  0,  0,  0,  0,  0,  0,\n",
              "         0,  0,  0,  0,  0],\n",
              "       [ 0,  0,  0,  0,  0,  0,  0,  0,  0,  0, 80,  0,  0,  0,  0,  0,\n",
              "         0,  0,  0,  0,  0],\n",
              "       [ 0,  0,  0,  0,  0,  0,  2, 26,  0,  0,  0, 31,  0,  0,  0,  0,\n",
              "         0,  0,  0,  0,  0],\n",
              "       [ 0,  0,  0,  0,  0,  0,  0,  0,  0,  0,  0,  0, 65,  0,  0,  0,\n",
              "         0,  0,  0,  0,  0],\n",
              "       [ 0,  0,  0,  0,  0,  0,  0,  0,  0,  0,  0,  0,  0, 56,  0,  8,\n",
              "         0,  0,  0,  0,  0],\n",
              "       [ 0,  0,  0,  0,  0,  0,  0,  0,  0,  0,  0,  0,  0,  0, 76,  0,\n",
              "         0,  0,  0,  0,  0],\n",
              "       [ 0,  0,  0,  0,  0,  0,  0,  0,  0,  0,  0,  0,  0,  0,  0, 61,\n",
              "         0,  0,  0,  0,  0],\n",
              "       [ 0,  0,  0,  0,  0,  0,  0,  0,  0,  0,  0,  0,  0,  0,  0,  0,\n",
              "        70,  0,  0,  0,  0],\n",
              "       [ 0,  0,  0,  0,  0,  0,  0,  0,  0,  0,  0,  0,  0,  0,  0,  0,\n",
              "         0, 73,  0,  0,  0],\n",
              "       [ 0,  0,  0,  0,  0,  0,  0,  0,  0,  0,  0,  0,  0,  1,  0,  0,\n",
              "         0,  0, 48,  0,  4],\n",
              "       [ 0,  0,  0,  0,  0,  0,  0,  0,  0,  0,  0,  0,  0,  0,  0,  0,\n",
              "         0,  0,  0, 55,  0],\n",
              "       [ 0,  0,  0,  0,  0,  0,  0,  0,  0,  0,  0,  0,  0,  7,  0,  0,\n",
              "         0,  0,  0,  0, 56]])"
            ]
          },
          "metadata": {},
          "execution_count": 106
        }
      ]
    },
    {
      "cell_type": "code",
      "source": [
        "print(metrics.classification_report(test_labels, y_pred))\n",
        "\n",
        "confusion_dl = confusion_matrix(test_labels, y_pred)\n",
        "\n",
        "cm_normalized_dl = confusion_dl.astype('float') / confusion_dl.sum(axis=1)[:, np.newaxis]\n",
        "\n",
        "print(\"\\n Confusion Matrix:\\n\")\n",
        "sns.heatmap(cm_normalized_dl, annot=True, linewidths = 0.01)"
      ],
      "metadata": {
        "id": "xgnojyDgJsR5",
        "colab": {
          "base_uri": "https://localhost:8080/",
          "height": 825
        },
        "outputId": "c861366f-fe05-4dac-d7cf-969269a5c146"
      },
      "execution_count": null,
      "outputs": [
        {
          "output_type": "stream",
          "name": "stdout",
          "text": [
            "              precision    recall  f1-score   support\n",
            "\n",
            "           0       1.00      0.91      0.95        74\n",
            "           1       0.99      1.00      0.99        79\n",
            "           2       1.00      1.00      1.00        76\n",
            "           3       1.00      1.00      1.00        75\n",
            "           4       1.00      1.00      1.00        70\n",
            "           5       0.93      1.00      0.96        65\n",
            "           6       0.96      1.00      0.98        68\n",
            "           7       0.70      0.98      0.82        63\n",
            "           8       1.00      1.00      1.00        71\n",
            "           9       1.00      0.91      0.95        68\n",
            "          10       1.00      1.00      1.00        80\n",
            "          11       1.00      0.53      0.69        59\n",
            "          12       1.00      1.00      1.00        65\n",
            "          13       0.82      0.88      0.85        64\n",
            "          14       1.00      1.00      1.00        76\n",
            "          15       0.88      1.00      0.94        61\n",
            "          16       1.00      1.00      1.00        70\n",
            "          17       1.00      1.00      1.00        73\n",
            "          18       1.00      0.91      0.95        53\n",
            "          19       1.00      1.00      1.00        55\n",
            "          20       0.89      0.89      0.89        63\n",
            "\n",
            "    accuracy                           0.96      1428\n",
            "   macro avg       0.96      0.95      0.95      1428\n",
            "weighted avg       0.96      0.96      0.96      1428\n",
            "\n",
            "\n",
            " Confusion Matrix:\n",
            "\n"
          ]
        },
        {
          "output_type": "execute_result",
          "data": {
            "text/plain": [
              "<matplotlib.axes._subplots.AxesSubplot at 0x7f7e17b939d0>"
            ]
          },
          "metadata": {},
          "execution_count": 107
        },
        {
          "output_type": "display_data",
          "data": {
            "text/plain": [
              "<Figure size 432x288 with 2 Axes>"
            ],
            "image/png": "[encoded data removed]"
          },
          "metadata": {
            "needs_background": "light"
          }
        }
      ]
    },
    {
      "cell_type": "code",
      "source": [
        "temp = df[df['cluster']==8]\n",
        "temp"
      ],
      "metadata": {
        "colab": {
          "base_uri": "https://localhost:8080/",
          "height": 424
        },
        "id": "u5Qa8eHGv0ng",
        "outputId": "748c717b-3d45-4464-f804-85a51312938e"
      },
      "execution_count": null,
      "outputs": [
        {
          "output_type": "execute_result",
          "data": {
            "text/plain": [
              "                 Question                                           Answer  \\\n",
              "552    what should i take          Pardon, may i suggest you a red velvet.   \n",
              "553           what u have  Pardon, may i suggest you a hazelnut cappccino.   \n",
              "554           what u have          Pardon, may i suggest you a cafe mocha.   \n",
              "555           what u have           Pardon, may i suggest you a cappccino.   \n",
              "556         what you have           Pardon, may i suggest you a americano.   \n",
              "..                    ...                                              ...   \n",
              "635  suggest me something                I may suggest you Latte Macchiato   \n",
              "636  suggest me something                I may suggest you Latte Macchiato   \n",
              "637  suggest me something                   I may suggest you Nutella Puff   \n",
              "638  suggest me something                   I may suggest you Vanila Layer   \n",
              "639  suggest me something                   I may suggest you Nutella Puff   \n",
              "\n",
              "     cluster       label  \n",
              "552      8.0  suggestion  \n",
              "553      8.0  suggestion  \n",
              "554      8.0  suggestion  \n",
              "555      8.0  suggestion  \n",
              "556      8.0  suggestion  \n",
              "..       ...         ...  \n",
              "635      8.0  suggestion  \n",
              "636      8.0  suggestion  \n",
              "637      8.0  suggestion  \n",
              "638      8.0  suggestion  \n",
              "639      8.0  suggestion  \n",
              "\n",
              "[88 rows x 4 columns]"
            ],
            "text/html": [
              "\n",
              "  <div id=\"df-bb89fc2c-3849-483f-a848-799127fa06c9\">\n",
              "    <div class=\"colab-df-container\">\n",
              "      <div>\n",
              "<style scoped>\n",
              "    .dataframe tbody tr th:only-of-type {\n",
              "        vertical-align: middle;\n",
              "    }\n",
              "\n",
              "    .dataframe tbody tr th {\n",
              "        vertical-align: top;\n",
              "    }\n",
              "\n",
              "    .dataframe thead th {\n",
              "        text-align: right;\n",
              "    }\n",
              "</style>\n",
              "<table border=\"1\" class=\"dataframe\">\n",
              "  <thead>\n",
              "    <tr style=\"text-align: right;\">\n",
              "      <th></th>\n",
              "      <th>Question</th>\n",
              "      <th>Answer</th>\n",
              "      <th>cluster</th>\n",
              "      <th>label</th>\n",
              "    </tr>\n",
              "  </thead>\n",
              "  <tbody>\n",
              "    <tr>\n",
              "      <th>552</th>\n",
              "      <td>what should i take</td>\n",
              "      <td>Pardon, may i suggest you a red velvet.</td>\n",
              "      <td>8.0</td>\n",
              "      <td>suggestion</td>\n",
              "    </tr>\n",
              "    <tr>\n",
              "      <th>553</th>\n",
              "      <td>what u have</td>\n",
              "      <td>Pardon, may i suggest you a hazelnut cappccino.</td>\n",
              "      <td>8.0</td>\n",
              "      <td>suggestion</td>\n",
              "    </tr>\n",
              "    <tr>\n",
              "      <th>554</th>\n",
              "      <td>what u have</td>\n",
              "      <td>Pardon, may i suggest you a cafe mocha.</td>\n",
              "      <td>8.0</td>\n",
              "      <td>suggestion</td>\n",
              "    </tr>\n",
              "    <tr>\n",
              "      <th>555</th>\n",
              "      <td>what u have</td>\n",
              "      <td>Pardon, may i suggest you a cappccino.</td>\n",
              "      <td>8.0</td>\n",
              "      <td>suggestion</td>\n",
              "    </tr>\n",
              "    <tr>\n",
              "      <th>556</th>\n",
              "      <td>what you have</td>\n",
              "      <td>Pardon, may i suggest you a americano.</td>\n",
              "      <td>8.0</td>\n",
              "      <td>suggestion</td>\n",
              "    </tr>\n",
              "    <tr>\n",
              "      <th>...</th>\n",
              "      <td>...</td>\n",
              "      <td>...</td>\n",
              "      <td>...</td>\n",
              "      <td>...</td>\n",
              "    </tr>\n",
              "    <tr>\n",
              "      <th>635</th>\n",
              "      <td>suggest me something</td>\n",
              "      <td>I may suggest you Latte Macchiato</td>\n",
              "      <td>8.0</td>\n",
              "      <td>suggestion</td>\n",
              "    </tr>\n",
              "    <tr>\n",
              "      <th>636</th>\n",
              "      <td>suggest me something</td>\n",
              "      <td>I may suggest you Latte Macchiato</td>\n",
              "      <td>8.0</td>\n",
              "      <td>suggestion</td>\n",
              "    </tr>\n",
              "    <tr>\n",
              "      <th>637</th>\n",
              "      <td>suggest me something</td>\n",
              "      <td>I may suggest you Nutella Puff</td>\n",
              "      <td>8.0</td>\n",
              "      <td>suggestion</td>\n",
              "    </tr>\n",
              "    <tr>\n",
              "      <th>638</th>\n",
              "      <td>suggest me something</td>\n",
              "      <td>I may suggest you Vanila Layer</td>\n",
              "      <td>8.0</td>\n",
              "      <td>suggestion</td>\n",
              "    </tr>\n",
              "    <tr>\n",
              "      <th>639</th>\n",
              "      <td>suggest me something</td>\n",
              "      <td>I may suggest you Nutella Puff</td>\n",
              "      <td>8.0</td>\n",
              "      <td>suggestion</td>\n",
              "    </tr>\n",
              "  </tbody>\n",
              "</table>\n",
              "<p>88 rows × 4 columns</p>\n",
              "</div>\n",
              "      <button class=\"colab-df-convert\" onclick=\"convertToInteractive('df-bb89fc2c-3849-483f-a848-799127fa06c9')\"\n",
              "              title=\"Convert this dataframe to an interactive table.\"\n",
              "              style=\"display:none;\">\n",
              "        \n",
              "  <svg xmlns=\"http://www.w3.org/2000/svg\" height=\"24px\"viewBox=\"0 0 24 24\"\n",
              "       width=\"24px\">\n",
              "    <path d=\"M0 0h24v24H0V0z\" fill=\"none\"/>\n",
              "    <path d=\"M18.56 5.44l.94 2.06.94-2.06 2.06-.94-2.06-.94-.94-2.06-.94 2.06-2.06.94zm-11 1L8.5 8.5l.94-2.06 2.06-.94-2.06-.94L8.5 2.5l-.94 2.06-2.06.94zm10 10l.94 2.06.94-2.06 2.06-.94-2.06-.94-.94-2.06-.94 2.06-2.06.94z\"/><path d=\"M17.41 7.96l-1.37-1.37c-.4-.4-.92-.59-1.43-.59-.52 0-1.04.2-1.43.59L10.3 9.45l-7.72 7.72c-.78.78-.78 2.05 0 2.83L4 21.41c.39.39.9.59 1.41.59.51 0 1.02-.2 1.41-.59l7.78-7.78 2.81-2.81c.8-.78.8-2.07 0-2.86zM5.41 20L4 18.59l7.72-7.72 1.47 1.35L5.41 20z\"/>\n",
              "  </svg>\n",
              "      </button>\n",
              "      \n",
              "  <style>\n",
              "    .colab-df-container {\n",
              "      display:flex;\n",
              "      flex-wrap:wrap;\n",
              "      gap: 12px;\n",
              "    }\n",
              "\n",
              "    .colab-df-convert {\n",
              "      background-color: #E8F0FE;\n",
              "      border: none;\n",
              "      border-radius: 50%;\n",
              "      cursor: pointer;\n",
              "      display: none;\n",
              "      fill: #1967D2;\n",
              "      height: 32px;\n",
              "      padding: 0 0 0 0;\n",
              "      width: 32px;\n",
              "    }\n",
              "\n",
              "    .colab-df-convert:hover {\n",
              "      background-color: #E2EBFA;\n",
              "      box-shadow: 0px 1px 2px rgba(60, 64, 67, 0.3), 0px 1px 3px 1px rgba(60, 64, 67, 0.15);\n",
              "      fill: #174EA6;\n",
              "    }\n",
              "\n",
              "    [theme=dark] .colab-df-convert {\n",
              "      background-color: #3B4455;\n",
              "      fill: #D2E3FC;\n",
              "    }\n",
              "\n",
              "    [theme=dark] .colab-df-convert:hover {\n",
              "      background-color: #434B5C;\n",
              "      box-shadow: 0px 1px 3px 1px rgba(0, 0, 0, 0.15);\n",
              "      filter: drop-shadow(0px 1px 2px rgba(0, 0, 0, 0.3));\n",
              "      fill: #FFFFFF;\n",
              "    }\n",
              "  </style>\n",
              "\n",
              "      <script>\n",
              "        const buttonEl =\n",
              "          document.querySelector('#df-bb89fc2c-3849-483f-a848-799127fa06c9 button.colab-df-convert');\n",
              "        buttonEl.style.display =\n",
              "          google.colab.kernel.accessAllowed ? 'block' : 'none';\n",
              "\n",
              "        async function convertToInteractive(key) {\n",
              "          const element = document.querySelector('#df-bb89fc2c-3849-483f-a848-799127fa06c9');\n",
              "          const dataTable =\n",
              "            await google.colab.kernel.invokeFunction('convertToInteractive',\n",
              "                                                     [key], {});\n",
              "          if (!dataTable) return;\n",
              "\n",
              "          const docLinkHtml = 'Like what you see? Visit the ' +\n",
              "            '<a target=\"_blank\" href=https://colab.research.google.com/notebooks/data_table.ipynb>data table notebook</a>'\n",
              "            + ' to learn more about interactive tables.';\n",
              "          element.innerHTML = '';\n",
              "          dataTable['output_type'] = 'display_data';\n",
              "          await google.colab.output.renderOutput(dataTable, element);\n",
              "          const docLink = document.createElement('div');\n",
              "          docLink.innerHTML = docLinkHtml;\n",
              "          element.appendChild(docLink);\n",
              "        }\n",
              "      </script>\n",
              "    </div>\n",
              "  </div>\n",
              "  "
            ]
          },
          "metadata": {},
          "execution_count": 108
        }
      ]
    },
    {
      "cell_type": "code",
      "source": [
        "temp = df[df['cluster']==12]\n",
        "temp"
      ],
      "metadata": {
        "colab": {
          "base_uri": "https://localhost:8080/",
          "height": 677
        },
        "id": "lbz9VY99wteK",
        "outputId": "8e7e56dc-5d14-4284-e6f3-6f5ad04c6b8c"
      },
      "execution_count": null,
      "outputs": [
        {
          "output_type": "execute_result",
          "data": {
            "text/plain": [
              "                Question                                             Answer  \\\n",
              "752     anything special  We have coffee,pastries,puff pastries and milk...   \n",
              "753    suggest something  We have coffee,pastries,puff pastries and milk...   \n",
              "754     anything special  We have coffee,pastries,puff pastries and milk...   \n",
              "755    suggest something  We have coffee,pastries,puff pastries and milk...   \n",
              "756     anything special  We have coffee,pastries,puff pastries and milk...   \n",
              "757    suggest something  We have coffee,pastries,puff pastries and milk...   \n",
              "758     anything special  We have coffee,pastries,puff pastries and milk...   \n",
              "759    suggest something  We have coffee,pastries,puff pastries and milk...   \n",
              "760       can u serve me  We have coffee,pastries,puff pastries and milk...   \n",
              "761  what is in the menu  we have pastery , puff-pastery,coffee and milk...   \n",
              "762     anything special  We have coffee,pastries,puff pastries and milk...   \n",
              "763    suggest something  We have coffee,pastries,puff pastries and milk...   \n",
              "764     anything special  We have coffee,pastries,puff pastries and milk...   \n",
              "765    suggest something  We have coffee,pastries,puff pastries and milk...   \n",
              "766     anything special  We have coffee,pastries,puff pastries and milk...   \n",
              "767    suggest something  We have coffee,pastries,puff pastries and milk...   \n",
              "768     anything special  We have coffee,pastries,puff pastries and milk...   \n",
              "769    suggest something  We have coffee,pastries,puff pastries and milk...   \n",
              "770       can u serve me  We have coffee,pastries,puff pastries and milk...   \n",
              "771  what is in the menu  we have pastery , puff-pastery,coffee and milk...   \n",
              "\n",
              "     cluster                     label  \n",
              "752     12.0  have like milkshakeswhat  \n",
              "753     12.0  have like milkshakeswhat  \n",
              "754     12.0  have like milkshakeswhat  \n",
              "755     12.0  have like milkshakeswhat  \n",
              "756     12.0  have like milkshakeswhat  \n",
              "757     12.0  have like milkshakeswhat  \n",
              "758     12.0  have like milkshakeswhat  \n",
              "759     12.0  have like milkshakeswhat  \n",
              "760     12.0  have like milkshakeswhat  \n",
              "761     12.0  have like milkshakeswhat  \n",
              "762     12.0  have like milkshakeswhat  \n",
              "763     12.0  have like milkshakeswhat  \n",
              "764     12.0  have like milkshakeswhat  \n",
              "765     12.0  have like milkshakeswhat  \n",
              "766     12.0  have like milkshakeswhat  \n",
              "767     12.0  have like milkshakeswhat  \n",
              "768     12.0  have like milkshakeswhat  \n",
              "769     12.0  have like milkshakeswhat  \n",
              "770     12.0  have like milkshakeswhat  \n",
              "771     12.0  have like milkshakeswhat  "
            ],
            "text/html": [
              "\n",
              "  <div id=\"df-e6231b85-96a1-4900-887c-c7751a5c4cf9\">\n",
              "    <div class=\"colab-df-container\">\n",
              "      <div>\n",
              "<style scoped>\n",
              "    .dataframe tbody tr th:only-of-type {\n",
              "        vertical-align: middle;\n",
              "    }\n",
              "\n",
              "    .dataframe tbody tr th {\n",
              "        vertical-align: top;\n",
              "    }\n",
              "\n",
              "    .dataframe thead th {\n",
              "        text-align: right;\n",
              "    }\n",
              "</style>\n",
              "<table border=\"1\" class=\"dataframe\">\n",
              "  <thead>\n",
              "    <tr style=\"text-align: right;\">\n",
              "      <th></th>\n",
              "      <th>Question</th>\n",
              "      <th>Answer</th>\n",
              "      <th>cluster</th>\n",
              "      <th>label</th>\n",
              "    </tr>\n",
              "  </thead>\n",
              "  <tbody>\n",
              "    <tr>\n",
              "      <th>752</th>\n",
              "      <td>anything special</td>\n",
              "      <td>We have coffee,pastries,puff pastries and milk...</td>\n",
              "      <td>12.0</td>\n",
              "      <td>have like milkshakeswhat</td>\n",
              "    </tr>\n",
              "    <tr>\n",
              "      <th>753</th>\n",
              "      <td>suggest something</td>\n",
              "      <td>We have coffee,pastries,puff pastries and milk...</td>\n",
              "      <td>12.0</td>\n",
              "      <td>have like milkshakeswhat</td>\n",
              "    </tr>\n",
              "    <tr>\n",
              "      <th>754</th>\n",
              "      <td>anything special</td>\n",
              "      <td>We have coffee,pastries,puff pastries and milk...</td>\n",
              "      <td>12.0</td>\n",
              "      <td>have like milkshakeswhat</td>\n",
              "    </tr>\n",
              "    <tr>\n",
              "      <th>755</th>\n",
              "      <td>suggest something</td>\n",
              "      <td>We have coffee,pastries,puff pastries and milk...</td>\n",
              "      <td>12.0</td>\n",
              "      <td>have like milkshakeswhat</td>\n",
              "    </tr>\n",
              "    <tr>\n",
              "      <th>756</th>\n",
              "      <td>anything special</td>\n",
              "      <td>We have coffee,pastries,puff pastries and milk...</td>\n",
              "      <td>12.0</td>\n",
              "      <td>have like milkshakeswhat</td>\n",
              "    </tr>\n",
              "    <tr>\n",
              "      <th>757</th>\n",
              "      <td>suggest something</td>\n",
              "      <td>We have coffee,pastries,puff pastries and milk...</td>\n",
              "      <td>12.0</td>\n",
              "      <td>have like milkshakeswhat</td>\n",
              "    </tr>\n",
              "    <tr>\n",
              "      <th>758</th>\n",
              "      <td>anything special</td>\n",
              "      <td>We have coffee,pastries,puff pastries and milk...</td>\n",
              "      <td>12.0</td>\n",
              "      <td>have like milkshakeswhat</td>\n",
              "    </tr>\n",
              "    <tr>\n",
              "      <th>759</th>\n",
              "      <td>suggest something</td>\n",
              "      <td>We have coffee,pastries,puff pastries and milk...</td>\n",
              "      <td>12.0</td>\n",
              "      <td>have like milkshakeswhat</td>\n",
              "    </tr>\n",
              "    <tr>\n",
              "      <th>760</th>\n",
              "      <td>can u serve me</td>\n",
              "      <td>We have coffee,pastries,puff pastries and milk...</td>\n",
              "      <td>12.0</td>\n",
              "      <td>have like milkshakeswhat</td>\n",
              "    </tr>\n",
              "    <tr>\n",
              "      <th>761</th>\n",
              "      <td>what is in the menu</td>\n",
              "      <td>we have pastery , puff-pastery,coffee and milk...</td>\n",
              "      <td>12.0</td>\n",
              "      <td>have like milkshakeswhat</td>\n",
              "    </tr>\n",
              "    <tr>\n",
              "      <th>762</th>\n",
              "      <td>anything special</td>\n",
              "      <td>We have coffee,pastries,puff pastries and milk...</td>\n",
              "      <td>12.0</td>\n",
              "      <td>have like milkshakeswhat</td>\n",
              "    </tr>\n",
              "    <tr>\n",
              "      <th>763</th>\n",
              "      <td>suggest something</td>\n",
              "      <td>We have coffee,pastries,puff pastries and milk...</td>\n",
              "      <td>12.0</td>\n",
              "      <td>have like milkshakeswhat</td>\n",
              "    </tr>\n",
              "    <tr>\n",
              "      <th>764</th>\n",
              "      <td>anything special</td>\n",
              "      <td>We have coffee,pastries,puff pastries and milk...</td>\n",
              "      <td>12.0</td>\n",
              "      <td>have like milkshakeswhat</td>\n",
              "    </tr>\n",
              "    <tr>\n",
              "      <th>765</th>\n",
              "      <td>suggest something</td>\n",
              "      <td>We have coffee,pastries,puff pastries and milk...</td>\n",
              "      <td>12.0</td>\n",
              "      <td>have like milkshakeswhat</td>\n",
              "    </tr>\n",
              "    <tr>\n",
              "      <th>766</th>\n",
              "      <td>anything special</td>\n",
              "      <td>We have coffee,pastries,puff pastries and milk...</td>\n",
              "      <td>12.0</td>\n",
              "      <td>have like milkshakeswhat</td>\n",
              "    </tr>\n",
              "    <tr>\n",
              "      <th>767</th>\n",
              "      <td>suggest something</td>\n",
              "      <td>We have coffee,pastries,puff pastries and milk...</td>\n",
              "      <td>12.0</td>\n",
              "      <td>have like milkshakeswhat</td>\n",
              "    </tr>\n",
              "    <tr>\n",
              "      <th>768</th>\n",
              "      <td>anything special</td>\n",
              "      <td>We have coffee,pastries,puff pastries and milk...</td>\n",
              "      <td>12.0</td>\n",
              "      <td>have like milkshakeswhat</td>\n",
              "    </tr>\n",
              "    <tr>\n",
              "      <th>769</th>\n",
              "      <td>suggest something</td>\n",
              "      <td>We have coffee,pastries,puff pastries and milk...</td>\n",
              "      <td>12.0</td>\n",
              "      <td>have like milkshakeswhat</td>\n",
              "    </tr>\n",
              "    <tr>\n",
              "      <th>770</th>\n",
              "      <td>can u serve me</td>\n",
              "      <td>We have coffee,pastries,puff pastries and milk...</td>\n",
              "      <td>12.0</td>\n",
              "      <td>have like milkshakeswhat</td>\n",
              "    </tr>\n",
              "    <tr>\n",
              "      <th>771</th>\n",
              "      <td>what is in the menu</td>\n",
              "      <td>we have pastery , puff-pastery,coffee and milk...</td>\n",
              "      <td>12.0</td>\n",
              "      <td>have like milkshakeswhat</td>\n",
              "    </tr>\n",
              "  </tbody>\n",
              "</table>\n",
              "</div>\n",
              "      <button class=\"colab-df-convert\" onclick=\"convertToInteractive('df-e6231b85-96a1-4900-887c-c7751a5c4cf9')\"\n",
              "              title=\"Convert this dataframe to an interactive table.\"\n",
              "              style=\"display:none;\">\n",
              "        \n",
              "  <svg xmlns=\"http://www.w3.org/2000/svg\" height=\"24px\"viewBox=\"0 0 24 24\"\n",
              "       width=\"24px\">\n",
              "    <path d=\"M0 0h24v24H0V0z\" fill=\"none\"/>\n",
              "    <path d=\"M18.56 5.44l.94 2.06.94-2.06 2.06-.94-2.06-.94-.94-2.06-.94 2.06-2.06.94zm-11 1L8.5 8.5l.94-2.06 2.06-.94-2.06-.94L8.5 2.5l-.94 2.06-2.06.94zm10 10l.94 2.06.94-2.06 2.06-.94-2.06-.94-.94-2.06-.94 2.06-2.06.94z\"/><path d=\"M17.41 7.96l-1.37-1.37c-.4-.4-.92-.59-1.43-.59-.52 0-1.04.2-1.43.59L10.3 9.45l-7.72 7.72c-.78.78-.78 2.05 0 2.83L4 21.41c.39.39.9.59 1.41.59.51 0 1.02-.2 1.41-.59l7.78-7.78 2.81-2.81c.8-.78.8-2.07 0-2.86zM5.41 20L4 18.59l7.72-7.72 1.47 1.35L5.41 20z\"/>\n",
              "  </svg>\n",
              "      </button>\n",
              "      \n",
              "  <style>\n",
              "    .colab-df-container {\n",
              "      display:flex;\n",
              "      flex-wrap:wrap;\n",
              "      gap: 12px;\n",
              "    }\n",
              "\n",
              "    .colab-df-convert {\n",
              "      background-color: #E8F0FE;\n",
              "      border: none;\n",
              "      border-radius: 50%;\n",
              "      cursor: pointer;\n",
              "      display: none;\n",
              "      fill: #1967D2;\n",
              "      height: 32px;\n",
              "      padding: 0 0 0 0;\n",
              "      width: 32px;\n",
              "    }\n",
              "\n",
              "    .colab-df-convert:hover {\n",
              "      background-color: #E2EBFA;\n",
              "      box-shadow: 0px 1px 2px rgba(60, 64, 67, 0.3), 0px 1px 3px 1px rgba(60, 64, 67, 0.15);\n",
              "      fill: #174EA6;\n",
              "    }\n",
              "\n",
              "    [theme=dark] .colab-df-convert {\n",
              "      background-color: #3B4455;\n",
              "      fill: #D2E3FC;\n",
              "    }\n",
              "\n",
              "    [theme=dark] .colab-df-convert:hover {\n",
              "      background-color: #434B5C;\n",
              "      box-shadow: 0px 1px 3px 1px rgba(0, 0, 0, 0.15);\n",
              "      filter: drop-shadow(0px 1px 2px rgba(0, 0, 0, 0.3));\n",
              "      fill: #FFFFFF;\n",
              "    }\n",
              "  </style>\n",
              "\n",
              "      <script>\n",
              "        const buttonEl =\n",
              "          document.querySelector('#df-e6231b85-96a1-4900-887c-c7751a5c4cf9 button.colab-df-convert');\n",
              "        buttonEl.style.display =\n",
              "          google.colab.kernel.accessAllowed ? 'block' : 'none';\n",
              "\n",
              "        async function convertToInteractive(key) {\n",
              "          const element = document.querySelector('#df-e6231b85-96a1-4900-887c-c7751a5c4cf9');\n",
              "          const dataTable =\n",
              "            await google.colab.kernel.invokeFunction('convertToInteractive',\n",
              "                                                     [key], {});\n",
              "          if (!dataTable) return;\n",
              "\n",
              "          const docLinkHtml = 'Like what you see? Visit the ' +\n",
              "            '<a target=\"_blank\" href=https://colab.research.google.com/notebooks/data_table.ipynb>data table notebook</a>'\n",
              "            + ' to learn more about interactive tables.';\n",
              "          element.innerHTML = '';\n",
              "          dataTable['output_type'] = 'display_data';\n",
              "          await google.colab.output.renderOutput(dataTable, element);\n",
              "          const docLink = document.createElement('div');\n",
              "          docLink.innerHTML = docLinkHtml;\n",
              "          element.appendChild(docLink);\n",
              "        }\n",
              "      </script>\n",
              "    </div>\n",
              "  </div>\n",
              "  "
            ]
          },
          "metadata": {},
          "execution_count": 109
        }
      ]
    },
    {
      "cell_type": "markdown",
      "source": [
        "# Chabot Testing\n"
      ],
      "metadata": {
        "id": "fVN1IPcpXwSa"
      }
    },
    {
      "cell_type": "code",
      "source": [
        "def clean_text(text): \n",
        "  tokens = nltk.word_tokenize(text)\n",
        "  tokens = [lemmatizer.lemmatize(word) for word in tokens]\n",
        "  return tokens"
      ],
      "metadata": {
        "id": "oJlYNFcQx33u"
      },
      "execution_count": null,
      "outputs": []
    },
    {
      "cell_type": "code",
      "source": [
        "def bag_of_words(text, vocab): \n",
        "  tokens = clean_text(text)\n",
        "  bow = [0] * len(vocab)\n",
        "  for w in tokens: \n",
        "    for idx, word in enumerate(vocab):\n",
        "      if word == w: \n",
        "        bow[idx] = 1\n",
        "  return np.array(bow)"
      ],
      "metadata": {
        "id": "Wp9vdh3CzjbD"
      },
      "execution_count": null,
      "outputs": []
    },
    {
      "cell_type": "code",
      "source": [
        "def pred_class(text, vocab, labels): \n",
        "  bow = bag_of_words(text, vocab)\n",
        "  result = model.predict(np.array([bow]))[0]\n",
        "  thresh = 0.2\n",
        "  y_pred = [[idx, res] for idx, res in enumerate(result) if res > thresh]\n",
        "\n",
        "  y_pred.sort(key=lambda x: x[1], reverse=True)\n",
        "  return_list = []\n",
        "  for r in y_pred:\n",
        "    return_list.append(labels[r[0]])\n",
        "  return return_list"
      ],
      "metadata": {
        "id": "CyDZi-pkzmAz"
      },
      "execution_count": null,
      "outputs": []
    },
    {
      "cell_type": "code",
      "source": [
        "def get_response(intents_list, intents_json): \n",
        "  tag = intents_list[0]\n",
        "  list_of_intents = intents_json\n",
        "#  result = \"Sorry I can't find the answer\"\n",
        "\n",
        "#  sample = df[df['cluster']==tag]\n",
        "#  test  = list(sample['Answer'])\n",
        "#  result = test[0]\n",
        "\n",
        "  if tag not in df['cluster']:\n",
        "    result = \"Sorry I can't find the answer\"\n",
        "  else:\n",
        "    sample = df[df['cluster']==tag]\n",
        "    test  = list(sample['Answer'])\n",
        "    result = test[0]\n",
        "\n",
        "  return result"
      ],
      "metadata": {
        "id": "pRL27X58zo35"
      },
      "execution_count": null,
      "outputs": []
    },
    {
      "cell_type": "code",
      "source": [
        "# running the chatbot\n",
        "while True:\n",
        "  message = input(\"\")\n",
        "  if message == \"exit\" or message == \"stop\": \n",
        "    break\n",
        "  else:\n",
        "    intents = pred_class(message, words, classes)\n",
        "    result = get_response(intents, df)\n",
        "    print(result)\n",
        "    # print(intents)\n",
        "    # print(intents[0])\n"
      ],
      "metadata": {
        "colab": {
          "base_uri": "https://localhost:8080/"
        },
        "id": "VsgnqB58gkg1",
        "outputId": "a2df4e00-cbb2-4c8e-e159-99b4ff42fe07"
      },
      "execution_count": null,
      "outputs": [
        {
          "name": "stdout",
          "output_type": "stream",
          "text": [
            "hey\n",
            "Hello! How may I help you.\n",
            "anything special\n",
            "We have coffee,pastries,puff pastries and milkshakes.What would you like to have?\n",
            "coffee\n",
            "Yes sir  Simple Coffee ,Cappuchino, Americano, Au Laite ,Au Laite Cappucchino ,Chans Espresso ,Con Panna, Black Coffee, Espresso, Frappe ,French Coffee ,Iced Coffee Late ,Irish Coffee, Latte Macchiato and  Wainans Choco Coffee.What would u like to have?\n",
            "one simple coffee\n",
            "Sir thanks for your order. You have ordered successfully\n",
            "ertra sugar plz\n",
            "Sure sir, Let me get you sugar.\n",
            "puff pastries\n",
            "Yes we have your choice in our cafe.\n",
            "puff\n",
            "Yes sir  we have Tanuki,Tomato Cheese,Blueberry Puff,Char Sui,Cinnimon Orange rolls,Easy Spinach,French Pastery,Beef Wellington,Keto Puff,Nutella Puff,Asparagus Puff,Egg Puff,Rough Puff,Simple Cherry Puff,Tart Social,Blaeter  tertei Puff.What would u like to have?\n",
            "one tomato cheese\n",
            "Sir thanks for your order. You have ordered successfully\n",
            "thank you\n",
            "No Problem\n",
            "exit\n"
          ]
        }
      ]
    }
  ]
}